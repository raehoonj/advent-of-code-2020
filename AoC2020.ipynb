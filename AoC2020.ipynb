{
 "cells": [
  {
   "cell_type": "code",
   "execution_count": 738,
   "metadata": {},
   "outputs": [],
   "source": [
    "import csv\n",
    "import numpy as np"
   ]
  },
  {
   "cell_type": "markdown",
   "metadata": {},
   "source": [
    "### 12/1 - 1\n",
    "Find the two entries that sum to 2020 and then multiply those two numbers together"
   ]
  },
  {
   "cell_type": "code",
   "execution_count": 37,
   "metadata": {},
   "outputs": [
    {
     "name": "stdout",
     "output_type": "stream",
     "text": [
      "355875\n"
     ]
    }
   ],
   "source": [
    "with open('AoC2020/Day1.txt', 'r') as in_f:\n",
    "    in_reader = csv.reader(in_f)\n",
    "    num_list = []\n",
    "    for row in in_reader:\n",
    "        num = int(row[0])\n",
    "        if (2020-num) in num_list:\n",
    "            print(num * (2020-num))\n",
    "        num_list.append(num)    "
   ]
  },
  {
   "cell_type": "markdown",
   "metadata": {},
   "source": [
    "### 12/1 - 2\n",
    "Find the three entries that sum to 2020 and then multiply those three numbers together"
   ]
  },
  {
   "cell_type": "code",
   "execution_count": 18,
   "metadata": {},
   "outputs": [],
   "source": [
    "# Defining a recursive function to find a pair of numbers that sum up to a target\n",
    "def findPair (numlist, target):\n",
    "    pair = None\n",
    "    for num in num_list:\n",
    "        if (target - num) in num_list:\n",
    "            pair = (num, target-num)\n",
    "            break\n",
    "    return pair"
   ]
  },
  {
   "cell_type": "code",
   "execution_count": 19,
   "metadata": {},
   "outputs": [
    {
     "name": "stdout",
     "output_type": "stream",
     "text": [
      "346 1380 294\n",
      "140379120\n"
     ]
    }
   ],
   "source": [
    "for num1 in num_list:\n",
    "    if findPair(num_list, 2020-num1):\n",
    "        num2, num3 = findPair(num_list, 2020-num1) \n",
    "        print(num1, num2, num3)\n",
    "        print(num1 * num2 * num3)\n",
    "        break"
   ]
  },
  {
   "cell_type": "markdown",
   "metadata": {},
   "source": [
    "### 12/2 - 1\n",
    "How many passwords are valid according to their policies?\n",
    "The password policy indicates the lowest and highest number of times a given letter must appear for the password to be valid."
   ]
  },
  {
   "cell_type": "code",
   "execution_count": 36,
   "metadata": {},
   "outputs": [
    {
     "name": "stdout",
     "output_type": "stream",
     "text": [
      "506\n"
     ]
    }
   ],
   "source": [
    "with open('AoC2020/Day2.txt', 'r') as pw_f:\n",
    "    pw_reader = csv.reader(pw_f, delimiter = ' ')\n",
    "    valid_count = 0\n",
    "    for row in pw_reader:\n",
    "        pw = row[2]\n",
    "        alph = row[1].strip(':')\n",
    "        low, high = row[0].split('-')\n",
    "        if pw.count(alph) >= int(low) and pw.count(alph) <= int(high):\n",
    "            valid_count += 1\n",
    "            #print(pw, alph, low, high)\n",
    "    print(valid_count)"
   ]
  },
  {
   "cell_type": "markdown",
   "metadata": {},
   "source": [
    "### 12/2 - 2\n",
    "How many passwords are valid according to their policies?\n",
    "Exactly one of these positions must contain the given letter."
   ]
  },
  {
   "cell_type": "code",
   "execution_count": 35,
   "metadata": {},
   "outputs": [
    {
     "name": "stdout",
     "output_type": "stream",
     "text": [
      "443\n"
     ]
    }
   ],
   "source": [
    "with open('AoC2020/Day2.txt', 'r') as pw_f:\n",
    "    pw_reader = csv.reader(pw_f, delimiter = ' ')\n",
    "    valid_count = 0\n",
    "    for row in pw_reader:\n",
    "        pw = row[2]\n",
    "        alph = row[1].strip(':')\n",
    "        first, second = row[0].split('-')\n",
    "        if (pw[int(first)-1] == alph) ^ (pw[int(second)-1] == alph):\n",
    "            valid_count += 1\n",
    "            #print(pw, alph, low, high)\n",
    "    print(valid_count)"
   ]
  },
  {
   "cell_type": "markdown",
   "metadata": {},
   "source": [
    "### 12/3 - 1\n",
    "Starting at the top-left corner of your map and following a slope of right 3 and down 1, how many trees would you encounter?"
   ]
  },
  {
   "cell_type": "code",
   "execution_count": 38,
   "metadata": {},
   "outputs": [],
   "source": [
    "import numpy as np"
   ]
  },
  {
   "cell_type": "code",
   "execution_count": 47,
   "metadata": {},
   "outputs": [
    {
     "name": "stdout",
     "output_type": "stream",
     "text": [
      "272\n"
     ]
    }
   ],
   "source": [
    "with open('AoC2020/Day3.txt', 'r') as tree_f:\n",
    "    tree_reader = csv.reader(tree_f, delimiter = ' ')\n",
    "    trees = []\n",
    "    for row in tree_reader:\n",
    "        trees.append(row[0])\n",
    "\n",
    "right = 3\n",
    "down = 1\n",
    "mod = len(trees[0])\n",
    "count = 0\n",
    "index = 0\n",
    "for tree in trees:\n",
    "    if tree[(right*index) % mod] == '#':\n",
    "        count += 1\n",
    "    index += 1\n",
    "print(count)"
   ]
  },
  {
   "cell_type": "markdown",
   "metadata": {},
   "source": [
    "### 12/3 - 2\n",
    "What do you get if you multiply together the number of trees encountered on each of the listed slopes?\n",
    "\n",
    "Right 1, down 1.\n",
    "\n",
    "Right 3, down 1. (This is the slope you already checked.)\n",
    "\n",
    "Right 5, down 1.\n",
    "\n",
    "Right 7, down 1.\n",
    "\n",
    "Right 1, down 2."
   ]
  },
  {
   "cell_type": "code",
   "execution_count": 58,
   "metadata": {},
   "outputs": [
    {
     "name": "stdout",
     "output_type": "stream",
     "text": [
      "3898725600\n"
     ]
    }
   ],
   "source": [
    "prod = 1\n",
    "for right, down in [(1,1),(3,1),(5,1),(7,1),(1,2)]:\n",
    "    count = 0\n",
    "    index = 0\n",
    "    for tree in trees:\n",
    "        if not index % down:\n",
    "            if tree[int(right*(index/down)) % mod] == '#':\n",
    "                count += 1\n",
    "        index += 1\n",
    "    prod *= count\n",
    "print(prod)"
   ]
  },
  {
   "cell_type": "markdown",
   "metadata": {},
   "source": [
    "### 12/4 - 1\n",
    "Count the number of valid passports - those that have all required fields. Treat cid as optional. In your batch file, how many passports are valid?"
   ]
  },
  {
   "cell_type": "code",
   "execution_count": 83,
   "metadata": {},
   "outputs": [
    {
     "name": "stdout",
     "output_type": "stream",
     "text": [
      "200\n"
     ]
    }
   ],
   "source": [
    "required = {'byr', 'iyr', 'eyr', 'hgt', 'hcl', 'ecl', 'pid'} #cid ]\n",
    "with open('AoC2020/Day4.txt', 'r') as passport_f:\n",
    "    passport_reader = csv.reader(passport_f, delimiter = ' ')\n",
    "    fields = set()\n",
    "    count = 0\n",
    "    for row in passport_reader:\n",
    "        for item in row:\n",
    "            fields.add(item.split(':')[0])\n",
    "\n",
    "        if not row:  # End of current passport\n",
    "            if required.issubset(fields):\n",
    "                count += 1\n",
    "            fields = set()\n",
    "    if required.issubset(fields):\n",
    "        count += 1\n",
    "print(count)"
   ]
  },
  {
   "cell_type": "markdown",
   "metadata": {},
   "source": [
    "### 12/4 - 2\n",
    "Count the number of valid passports - those that have all required fields and valid values. Continue to treat cid as optional. In your batch file, how many passports are valid?"
   ]
  },
  {
   "cell_type": "markdown",
   "metadata": {},
   "source": [
    "byr (Birth Year) - four digits; at least 1920 and at most 2002.\n",
    "\n",
    "iyr (Issue Year) - four digits; at least 2010 and at most 2020.\n",
    "\n",
    "eyr (Expiration Year) - four digits; at least 2020 and at most 2030.\n",
    "\n",
    "hgt (Height) - a number followed by either cm or in: \n",
    "If cm, the number must be at least 150 and at most 193.\n",
    "If in, the number must be at least 59 and at most 76.\n",
    "\n",
    "hcl (Hair Color) - a # followed by exactly six characters 0-9 or a-f.\n",
    "\n",
    "ecl (Eye Color) - exactly one of: amb blu brn gry grn hzl oth.\n",
    "\n",
    "pid (Passport ID) - a nine-digit number, including leading zeroes.\n",
    "\n",
    "cid (Country ID) - ignored, missing or not."
   ]
  },
  {
   "cell_type": "code",
   "execution_count": 125,
   "metadata": {},
   "outputs": [],
   "source": [
    "def checkValid(info):\n",
    "    # Return false if any field is invalid\n",
    "    # If everything is, return True at the end\n",
    "    if int(info['byr']) < 1920 or int(info['byr']) > 2002:\n",
    "        return False\n",
    "    \n",
    "    if int(info['iyr']) < 2010 or int(info['iyr']) > 2020:\n",
    "        return False\n",
    "    \n",
    "    if int(info['eyr']) < 2020 or int(info['eyr']) > 2030:\n",
    "        return False\n",
    "    \n",
    "    if info['hgt'][-2:] == 'cm':\n",
    "        if int(info['hgt'][:-2]) < 150 or int(info['hgt'][:-2]) > 193:\n",
    "            return False\n",
    "    elif info['hgt'][-2:] == 'in':\n",
    "        if int(info['hgt'][:-2]) < 59 or int(info['hgt'][:-2]) > 76:\n",
    "            return False\n",
    "    else:\n",
    "        return False\n",
    "    \n",
    "    digits = {'0', '1', '2', '3', '4', '5', '6', '7', '8', '9', 'a', 'b', 'c', 'd', 'e', 'f'}\n",
    "    if info['hcl'][0] == '#' and len(info['hcl']) == 7:\n",
    "        if not set(info['hcl'][1:]).issubset(digits):\n",
    "            return False\n",
    "    else:\n",
    "        return False\n",
    "    \n",
    "    if info['ecl'] not in ['amb', 'blu', 'brn', 'gry', 'grn', 'hzl', 'oth']:\n",
    "        return False\n",
    "\n",
    "    if len(info['pid']) != 9 or not info['pid'].isdecimal():\n",
    "        return False\n",
    "    \n",
    "    return True"
   ]
  },
  {
   "cell_type": "code",
   "execution_count": 157,
   "metadata": {},
   "outputs": [
    {
     "name": "stdout",
     "output_type": "stream",
     "text": [
      "116\n"
     ]
    }
   ],
   "source": [
    "required = {'byr', 'iyr', 'eyr', 'hgt', 'hcl', 'ecl', 'pid'} #cid ]\n",
    "with open('AoC2020/Day4.txt', 'r') as passport_f:\n",
    "    passport_reader = csv.reader(passport_f, delimiter = ' ')\n",
    "    fields = set()\n",
    "    info = {}\n",
    "    count = 0\n",
    "    for row in passport_reader:\n",
    "        for item in row:\n",
    "            fields.add(item.split(':')[0])\n",
    "            info[item.split(':')[0]] = item.split(':')[1]\n",
    "\n",
    "        if not row:  # End of current passport\n",
    "            if required.issubset(fields):\n",
    "                if checkValid(info):\n",
    "                    count += 1\n",
    "            fields = set()\n",
    "            info = {}\n",
    "    if required.issubset(fields):\n",
    "        if checkValid(info):\n",
    "            count += 1\n",
    "print(count)   "
   ]
  },
  {
   "cell_type": "markdown",
   "metadata": {},
   "source": [
    "### 12/5 - 1\n",
    "What is the highest seat ID on a boarding pass?"
   ]
  },
  {
   "cell_type": "code",
   "execution_count": 133,
   "metadata": {},
   "outputs": [],
   "source": [
    "with open('AoC2020/Day5.txt', 'r') as seat_f:\n",
    "    seat_reader = csv.reader(seat_f, delimiter = ' ')\n",
    "    highest = 0\n",
    "    for row in seat_reader:\n",
    "        #print(row)\n",
    "        #print(row[0].replace('F', '0').replace('B','1').replace('L', '0').replace('R','1'))\n",
    "        seatid = int(row[0].replace('F', '0').replace('B','1').replace('L', '0').replace('R','1'),2)\n",
    "        if seatid > highest:\n",
    "            highest = seatid"
   ]
  },
  {
   "cell_type": "markdown",
   "metadata": {},
   "source": [
    "### 12/5 - 2\n",
    "What is the ID of your seat? Your seat wasn't at the very front or back, though; the seats with IDs +1 and -1 from yours will be in your list."
   ]
  },
  {
   "cell_type": "code",
   "execution_count": 156,
   "metadata": {},
   "outputs": [
    {
     "name": "stdout",
     "output_type": "stream",
     "text": [
      "676\n"
     ]
    }
   ],
   "source": [
    "allseats = set(range(8,1016))\n",
    "with open('AoC2020/Day5.txt', 'r') as seat_f:\n",
    "    seat_reader = csv.reader(seat_f, delimiter = ' ')\n",
    "    for row in seat_reader:\n",
    "        seatid = int(row[0].replace('F', '0').replace('B','1').replace('L', '0').replace('R','1'),2)\n",
    "        allseats.remove(seatid)\n",
    "remaining = list(allseats)\n",
    "for seatid in allseats:\n",
    "    if seatid + 1 in allseats or seatid - 1 in allseats:\n",
    "        remaining.remove(seatid)\n",
    "print(remaining[0])"
   ]
  },
  {
   "cell_type": "markdown",
   "metadata": {},
   "source": [
    "### 12/6 - 1\n",
    "For each group, count the number of questions to which anyone answered \"yes\". What is the sum of those counts?"
   ]
  },
  {
   "cell_type": "code",
   "execution_count": 152,
   "metadata": {},
   "outputs": [
    {
     "name": "stdout",
     "output_type": "stream",
     "text": [
      "6885\n"
     ]
    }
   ],
   "source": [
    "with open('AoC2020/Day6.txt', 'r') as custom_f:\n",
    "    custom_reader = csv.reader(custom_f, delimiter = ' ')\n",
    "    answers = set()\n",
    "    count = 0\n",
    "    for row in custom_reader:\n",
    "        if row:\n",
    "            for q in row[0]:\n",
    "                if q.isalpha():\n",
    "                    answers.add(q)\n",
    "        else:  # End of current group\n",
    "            count += len(answers)\n",
    "            answers = set()\n",
    "    count += len(answers)\n",
    "print(count)\n",
    "\n",
    "    "
   ]
  },
  {
   "cell_type": "markdown",
   "metadata": {},
   "source": [
    "### 12/6 - 2\n",
    "For each group, count the number of questions to which everyone answered \"yes\". What is the sum of those counts?"
   ]
  },
  {
   "cell_type": "code",
   "execution_count": 154,
   "metadata": {},
   "outputs": [
    {
     "name": "stdout",
     "output_type": "stream",
     "text": [
      "3550\n"
     ]
    }
   ],
   "source": [
    "with open('AoC2020/Day6.txt', 'r') as custom_f:\n",
    "    custom_reader = csv.reader(custom_f, delimiter = ' ')\n",
    "    group_answers = set()\n",
    "    count = 0\n",
    "    first = True\n",
    "    for row in custom_reader:\n",
    "        if row:\n",
    "            if first:\n",
    "                first = False\n",
    "                group_answers = set(row[0])\n",
    "            else:\n",
    "                group_answers = group_answers.intersection(set(row[0]))\n",
    "        else:  # End of current group\n",
    "            count += len(group_answers)\n",
    "            first = True\n",
    "            group_answers = set()\n",
    "    count += len(group_answers)\n",
    "print(count)"
   ]
  },
  {
   "cell_type": "code",
   "execution_count": 160,
   "metadata": {},
   "outputs": [
    {
     "name": "stdout",
     "output_type": "stream",
     "text": [
      "3473\n"
     ]
    }
   ],
   "source": [
    "with open('AoC2020/input.txt', 'r') as custom_f:\n",
    "    custom_reader = csv.reader(custom_f, delimiter = ' ')\n",
    "    group_answers = set()\n",
    "    count = 0\n",
    "    first = True\n",
    "    for row in custom_reader:\n",
    "        if row:\n",
    "            if first:\n",
    "                first = False\n",
    "                group_answers = set(row[0])\n",
    "            else:\n",
    "                group_answers = group_answers.intersection(set(row[0]))\n",
    "        else:  # End of current group\n",
    "            count += len(group_answers)\n",
    "            first = True\n",
    "            group_answers = set()\n",
    "    count += len(group_answers)\n",
    "print(count)"
   ]
  },
  {
   "cell_type": "markdown",
   "metadata": {},
   "source": [
    "### 12/7 - 1\n",
    "How many bag colors can eventually contain at least one shiny gold bag?"
   ]
  },
  {
   "cell_type": "code",
   "execution_count": 250,
   "metadata": {},
   "outputs": [],
   "source": [
    "with open('AoC2020/Day7.txt', 'r') as bag_f:\n",
    "    bag_reader = bag_f.readlines()\n",
    "    bag_dict = {}\n",
    "    count = 0\n",
    "    for row in bag_reader:\n",
    "        count += 1\n",
    "        adj, color= row.strip().split('contain ')[0].split('bags')[0].strip().split(' ')\n",
    "        bag_dict[(adj, color)] = {}\n",
    "        inside_bags = row.strip().split('contain ')[1].strip('.').split(', ')\n",
    "        for inside in inside_bags:\n",
    "            words = inside.split(' ')\n",
    "            if words[0].isdecimal():\n",
    "                num = int(words[0])\n",
    "                inside_adj, inside_color = words[1:3]\n",
    "                bag_dict[(adj, color)][(inside_adj, inside_color)] = num"
   ]
  },
  {
   "cell_type": "code",
   "execution_count": 251,
   "metadata": {},
   "outputs": [],
   "source": [
    "def isShinyGoldInside(bag_dict, bag):\n",
    "    if ('shiny', 'gold') in bag_dict[bag]:\n",
    "        return True\n",
    "    elif bag_dict[bag]:\n",
    "        for inside_bag in bag_dict[bag]:\n",
    "            if isShinyGoldInside(bag_dict, inside_bag):\n",
    "                return True\n",
    "    else:\n",
    "        return False    "
   ]
  },
  {
   "cell_type": "code",
   "execution_count": 255,
   "metadata": {},
   "outputs": [
    {
     "name": "stdout",
     "output_type": "stream",
     "text": [
      "226\n"
     ]
    }
   ],
   "source": [
    "count = 0\n",
    "for bag in bag_dict:\n",
    "    if isShinyGoldInside(bag_dict, bag):\n",
    "        count += 1\n",
    "print(count)"
   ]
  },
  {
   "cell_type": "markdown",
   "metadata": {},
   "source": [
    "### 12/7 - 2\n",
    "How many individual bags are required inside your single shiny gold bag?"
   ]
  },
  {
   "cell_type": "code",
   "execution_count": 256,
   "metadata": {},
   "outputs": [],
   "source": [
    "def countBagsInside(bag_dict, bag):\n",
    "    count = 0\n",
    "    for inside_bag in bag_dict[bag]:\n",
    "        count += bag_dict[bag][inside_bag]\n",
    "        count += bag_dict[bag][inside_bag] * countBagsInside(bag_dict, inside_bag)\n",
    "    return count"
   ]
  },
  {
   "cell_type": "code",
   "execution_count": 257,
   "metadata": {},
   "outputs": [
    {
     "name": "stdout",
     "output_type": "stream",
     "text": [
      "9569\n"
     ]
    }
   ],
   "source": [
    "print(countBagsInside(bag_dict, ('shiny', 'gold')))"
   ]
  },
  {
   "cell_type": "markdown",
   "metadata": {},
   "source": [
    "### 12/8 - 1\n",
    "Immediately before any instruction is executed a second time, what value is in the accumulator?"
   ]
  },
  {
   "cell_type": "code",
   "execution_count": 24,
   "metadata": {},
   "outputs": [
    {
     "name": "stdout",
     "output_type": "stream",
     "text": [
      "612\n"
     ]
    }
   ],
   "source": [
    "with open('AoC2020/Day8.txt', 'r') as game_f:\n",
    "    game_reader = csv.reader(game_f, delimiter = ' ')\n",
    "    cmd = []\n",
    "    for row in game_reader:\n",
    "        move, val = row\n",
    "        cmd.append((move,val))\n",
    "        played.append(False)\n",
    "print(len(cmd))"
   ]
  },
  {
   "cell_type": "code",
   "execution_count": 45,
   "metadata": {},
   "outputs": [
    {
     "name": "stdout",
     "output_type": "stream",
     "text": [
      "1810\n"
     ]
    }
   ],
   "source": [
    "i = 0\n",
    "score = 0\n",
    "played = [False]*len(cmd)\n",
    "while not played[i]:\n",
    "    move, val = cmd[i]\n",
    "    if move == 'nop':\n",
    "        played[i] = True\n",
    "        i += 1\n",
    "    elif move == 'acc':\n",
    "        score += int(val)\n",
    "        played[i] = True\n",
    "        i += 1\n",
    "    elif move == 'jmp':\n",
    "        played[i] = True\n",
    "        i += int(val)\n",
    "print(score)"
   ]
  },
  {
   "cell_type": "markdown",
   "metadata": {},
   "source": [
    "### 12/8 - 2\n",
    "Fix the program so that it terminates normally by changing exactly one jmp (to nop) or nop (to jmp). What is the value of the accumulator after the program terminates?"
   ]
  },
  {
   "cell_type": "code",
   "execution_count": 50,
   "metadata": {},
   "outputs": [],
   "source": [
    "def playGame(cmd):\n",
    "    i = 0\n",
    "    score = 0\n",
    "    played = [False]*len(cmd)\n",
    "    while not played[i]:\n",
    "        move, val = cmd[i]\n",
    "        if move == 'nop':\n",
    "            played[i] = True\n",
    "            i += 1\n",
    "        elif move == 'acc':\n",
    "            score += int(val)\n",
    "            played[i] = True\n",
    "            i += 1\n",
    "        elif move == 'jmp':\n",
    "            played[i] = True\n",
    "            i += int(val)\n",
    "        if i >= len(cmd):\n",
    "            break\n",
    "        if i == len(cmd)-1:\n",
    "            print(score)\n",
    "            break        "
   ]
  },
  {
   "cell_type": "code",
   "execution_count": 49,
   "metadata": {},
   "outputs": [
    {
     "name": "stdout",
     "output_type": "stream",
     "text": [
      "969\n"
     ]
    }
   ],
   "source": [
    "visited = np.where(played)[0]\n",
    "for c in visited:\n",
    "    tmpcmd = cmd.copy()\n",
    "    if cmd[c][0] == 'nop':\n",
    "        tmpcmd[c] = ('jmp',tmpcmd[c][1])\n",
    "        playGame(tmpcmd)\n",
    "    elif cmd[c][0] == 'jmp': \n",
    "        tmpcmd[c] = ('nop',tmpcmd[c][1])\n",
    "        playGame(tmpcmd)"
   ]
  },
  {
   "cell_type": "markdown",
   "metadata": {},
   "source": [
    "### 12/9 - 1\n",
    "The first step of attacking the weakness in the XMAS data is to find the first number in the list (after the preamble) which is not the sum of two of the 25 numbers before it. What is the first number that does not have this property?"
   ]
  },
  {
   "cell_type": "code",
   "execution_count": 28,
   "metadata": {},
   "outputs": [],
   "source": [
    "with open('AoC2020/Day9.txt', 'r') as cypher_f:\n",
    "    cypher_reader = cypher_f.readlines()\n",
    "    num_list = []\n",
    "    for row in cypher_reader:\n",
    "        num = int(row.strip())\n",
    "        num_list.append(num)"
   ]
  },
  {
   "cell_type": "code",
   "execution_count": 29,
   "metadata": {},
   "outputs": [],
   "source": [
    "def isXMAS(previous, n):\n",
    "    if len(previous) != 25:\n",
    "        print(\"error not 25\")\n",
    "        return False\n",
    "    else:\n",
    "        for i in range(24):\n",
    "            for j in range(i,25):\n",
    "                if previous[i] + previous[j] == n:\n",
    "                    return True\n",
    "    return False"
   ]
  },
  {
   "cell_type": "code",
   "execution_count": 30,
   "metadata": {},
   "outputs": [
    {
     "name": "stdout",
     "output_type": "stream",
     "text": [
      "138879426\n"
     ]
    }
   ],
   "source": [
    "for i in range(25,len(num_list)):\n",
    "    if not isXMAS(num_list[i-25:i], num_list[i]):\n",
    "        invalid = num_list[i]\n",
    "        print(num_list[i])"
   ]
  },
  {
   "cell_type": "markdown",
   "metadata": {},
   "source": [
    "### 12/9 - 2\n",
    "Find a contiguous set of at least two numbers in your list which sum to the invalid number from step 1. To find the encryption weakness, add together the smallest and largest number in this contiguous range. What is the encryption weakness in your XMAS-encrypted list of numbers?"
   ]
  },
  {
   "cell_type": "code",
   "execution_count": 31,
   "metadata": {},
   "outputs": [
    {
     "name": "stdout",
     "output_type": "stream",
     "text": [
      "23761694\n"
     ]
    }
   ],
   "source": [
    "for i in range(len(num_list)):\n",
    "    total = num_list[i]\n",
    "    j = i\n",
    "    while total < invalid:\n",
    "        j += 1\n",
    "        total += num_list[j]\n",
    "        if total == invalid:\n",
    "            #print(sum(num_list[i:j+1]))\n",
    "            #print(num_list[i], num_list[j])\n",
    "            print(min(num_list[i:j+1]) + max((num_list[i:j+1])))"
   ]
  },
  {
   "cell_type": "markdown",
   "metadata": {},
   "source": [
    "### 12/10 - 1\n",
    "Find a chain that uses all of your adapters to connect the charging outlet to your device's built-in adapter and count the joltage differences between the charging outlet, the adapters, and your device. What is the number of 1-jolt differences multiplied by the number of 3-jolt differences?"
   ]
  },
  {
   "cell_type": "code",
   "execution_count": 36,
   "metadata": {},
   "outputs": [],
   "source": [
    "with open('AoC2020/Day10.txt', 'r') as jolt_f:\n",
    "    jolt_reader = jolt_f.readlines()\n",
    "    jolt_list = []\n",
    "    for row in jolt_reader:\n",
    "        jolt = int(row.strip())\n",
    "        jolt_list.append(jolt)\n",
    "    jolt_list.extend([0,max(jolt_list) + 3])\n",
    "    jolt_list.sort()"
   ]
  },
  {
   "cell_type": "code",
   "execution_count": 37,
   "metadata": {},
   "outputs": [
    {
     "name": "stdout",
     "output_type": "stream",
     "text": [
      "64 29 1856\n"
     ]
    }
   ],
   "source": [
    "count_one = 0\n",
    "count_three = 0\n",
    "for i in range(len(jolt_list)-1):\n",
    "    dif = jolt_list[i+1] - jolt_list[i]\n",
    "    if dif == 1:\n",
    "        count_one += 1\n",
    "    elif dif == 3:\n",
    "        count_three += 1\n",
    "print(count_one, count_three, count_one * count_three)"
   ]
  },
  {
   "cell_type": "markdown",
   "metadata": {},
   "source": [
    "### 12/10 - 2\n",
    "What is the total number of distinct ways you can arrange the adapters to connect the charging outlet to your device?"
   ]
  },
  {
   "cell_type": "code",
   "execution_count": 78,
   "metadata": {},
   "outputs": [
    {
     "name": "stdout",
     "output_type": "stream",
     "text": [
      "2314037239808\n"
     ]
    }
   ],
   "source": [
    "jolt_list = np.array(jolt_list)\n",
    "ways = [None] * len(jolt_list)\n",
    "for i in range(len(jolt_list)):\n",
    "    if i == 0:\n",
    "        ways[i] = 1\n",
    "    else:\n",
    "        previous = np.where((jolt_list < jolt_list[i]) & (jolt_list >= jolt_list[i]-3))[0]\n",
    "        temp = 0\n",
    "        for j in previous:\n",
    "            temp += ways[j]\n",
    "        ways[i] = temp\n",
    "print(ways[-1])"
   ]
  },
  {
   "cell_type": "markdown",
   "metadata": {},
   "source": [
    "### 12/11 - 1\n",
    "Simulate your seating area by applying the seating rules repeatedly until no seats change state. How many seats end up occupied?"
   ]
  },
  {
   "cell_type": "code",
   "execution_count": 130,
   "metadata": {},
   "outputs": [],
   "source": [
    "# Original layout is 95 x 93. But I pad a row / column of '.' around the edge to manage edge cases\n",
    "# Resulting in a 97 x 95 matrix\n",
    "with open('AoC2020/Day11.txt', 'r') as seat_f:\n",
    "    seat_reader = seat_f.readlines()\n",
    "    seat_mat = [['.'] * 97]\n",
    "    for row in seat_reader:\n",
    "        seat = list('.' + row.strip()+'.')\n",
    "        seat_mat.append(seat)\n",
    "    seat_mat.append(['.'] * 97)"
   ]
  },
  {
   "cell_type": "code",
   "execution_count": 133,
   "metadata": {},
   "outputs": [],
   "source": [
    "def occupySeats(seat_mat):\n",
    "    newseat_mat = [x[:] for x in seat_mat]\n",
    "    changeCount = 0\n",
    "    for i in range(1,len(seat_mat)-1):\n",
    "        for j in range(1,len(seat_mat[i])-1):\n",
    "            if seat_mat[i][j] == 'L' and countOccupied(i,j,seat_mat) == 0:\n",
    "                newseat_mat[i][j] = '#'\n",
    "                changeCount += 1\n",
    "            elif seat_mat[i][j] == '#' and countOccupied(i,j,seat_mat) >= 4:\n",
    "                newseat_mat[i][j] = 'L'\n",
    "                changeCount += 1\n",
    "    #print(changeCount)\n",
    "    return (newseat_mat, changeCount)"
   ]
  },
  {
   "cell_type": "code",
   "execution_count": 134,
   "metadata": {},
   "outputs": [],
   "source": [
    "def countOccupied(i,j, seat_mat):\n",
    "    count = 0\n",
    "    for k in range(i-1, i+2):\n",
    "        for l in range(j-1, j+2):\n",
    "            if k != i or l != j:\n",
    "                if seat_mat[k][l] == '#':\n",
    "                    count += 1\n",
    "    return(count)"
   ]
  },
  {
   "cell_type": "code",
   "execution_count": 135,
   "metadata": {},
   "outputs": [
    {
     "name": "stdout",
     "output_type": "stream",
     "text": [
      "2277\n"
     ]
    }
   ],
   "source": [
    "changeCount = 1\n",
    "test_mat = [x[:] for x in seat_mat]\n",
    "while changeCount != 0:\n",
    "    test_mat, changeCount = occupySeats(test_mat)\n",
    "numOccupied = 0\n",
    "for i in range(len(test_mat)):\n",
    "    numOccupied += test_mat[i].count('#')\n",
    "print(numOccupied)"
   ]
  },
  {
   "cell_type": "markdown",
   "metadata": {},
   "source": [
    "### 12/11 - 2\n",
    "Given the new visibility method and the rule change for occupied seats becoming empty, once equilibrium is reached, how many seats end up occupied?"
   ]
  },
  {
   "cell_type": "code",
   "execution_count": 159,
   "metadata": {},
   "outputs": [],
   "source": [
    "def newoccupySeats(seat_mat):\n",
    "    newseat_mat = [x[:] for x in seat_mat]\n",
    "    changeCount = 0\n",
    "    for i in range(1,len(seat_mat)-1):\n",
    "        for j in range(1,len(seat_mat[i])-1):\n",
    "            if seat_mat[i][j] == 'L' and newcountOccupied(i,j,seat_mat) == 0:\n",
    "                newseat_mat[i][j] = '#'\n",
    "                changeCount += 1\n",
    "            elif seat_mat[i][j] == '#' and newcountOccupied(i,j,seat_mat) >= 5:\n",
    "                newseat_mat[i][j] = 'L'\n",
    "                changeCount += 1\n",
    "    #print(changeCount)\n",
    "    return (newseat_mat, changeCount)"
   ]
  },
  {
   "cell_type": "code",
   "execution_count": 160,
   "metadata": {},
   "outputs": [],
   "source": [
    "def newcountOccupied(i,j, seat_mat):\n",
    "    count = 0\n",
    "    dim_row = len(seat_mat)\n",
    "    dim_col = len(seat_mat[0])\n",
    "    \n",
    "    for (k,l) in [(1,0),(0,1),(1,1),(1,-1)]:\n",
    "        for d in [1,-1]:\n",
    "            step = 1\n",
    "            m = i + k*d*step\n",
    "            n = j + l*d*step\n",
    "            while seat_mat[m][n] == '.' and m > 0 and m < dim_row -1 and n > 0 and n < dim_col -1:\n",
    "                m += k*d*step\n",
    "                n += l*d*step\n",
    "            if seat_mat[m][n] == '#':\n",
    "                count += 1\n",
    "    return(count)"
   ]
  },
  {
   "cell_type": "code",
   "execution_count": 162,
   "metadata": {},
   "outputs": [
    {
     "name": "stdout",
     "output_type": "stream",
     "text": [
      "2066\n"
     ]
    }
   ],
   "source": [
    "changeCount = 1\n",
    "newtest_mat = [x[:] for x in seat_mat]\n",
    "while changeCount != 0:\n",
    "    newtest_mat, changeCount = newoccupySeats(newtest_mat)\n",
    "newnumOccupied = 0\n",
    "for i in range(len(newtest_mat)):\n",
    "    newnumOccupied += newtest_mat[i].count('#')\n",
    "print(newnumOccupied)"
   ]
  },
  {
   "cell_type": "markdown",
   "metadata": {},
   "source": [
    "### 12/12 - 1\n",
    "Figure out where the navigation instructions lead. What is the Manhattan distance between that location and the ship's starting position?"
   ]
  },
  {
   "cell_type": "code",
   "execution_count": 170,
   "metadata": {},
   "outputs": [
    {
     "name": "stdout",
     "output_type": "stream",
     "text": [
      "364\n"
     ]
    }
   ],
   "source": [
    "with open('AoC2020/Day12.txt', 'r') as ship_f:\n",
    "    ship_reader = ship_f.readlines()\n",
    "    latitude = 0\n",
    "    longitude = 0\n",
    "    direction_idx = 0\n",
    "    nesw = {'N':(0,1), 'E': (1,0), 'S': (0,-1), 'W': (-1,0)}\n",
    "    directions = [(1,0), (0,-1), (-1,0), (0,1)] # 'R' 90 means the next index, 'L' 90 means the previous index\n",
    "    for row in ship_reader:\n",
    "        cmd = row.strip()\n",
    "        mv = cmd[0]\n",
    "        val = int(cmd[1:])\n",
    "        \n",
    "        if mv in nesw:\n",
    "            latitude += val * nesw[mv][1]\n",
    "            longitude += val * nesw[mv][0]\n",
    "        elif mv == 'R':\n",
    "            direction_idx = int(direction_idx +(val / 90)) % 4\n",
    "        elif mv == 'L':\n",
    "            direction_idx = int(direction_idx -(val / 90)) % 4\n",
    "        elif mv == 'F':\n",
    "            latitude += val * directions[direction_idx][1]\n",
    "            longitude += val * directions[direction_idx][0]\n",
    "        #print(cmd)\n",
    "        #print(latitude, longitude, direction_idx)\n",
    "print(abs(latitude) + abs(longitude))"
   ]
  },
  {
   "cell_type": "markdown",
   "metadata": {},
   "source": [
    "### 12/12 - 2\n",
    "Figure out where the navigation instructions actually lead. What is the Manhattan distance between that location and the ship's starting position?"
   ]
  },
  {
   "cell_type": "code",
   "execution_count": 174,
   "metadata": {},
   "outputs": [
    {
     "name": "stdout",
     "output_type": "stream",
     "text": [
      "39518\n"
     ]
    }
   ],
   "source": [
    "with open('AoC2020/Day12.txt', 'r') as ship_f:\n",
    "    ship_reader = ship_f.readlines()\n",
    "    latitude = 0\n",
    "    longitude = 0\n",
    "    wp_latitude = 1\n",
    "    wp_longitude = 10\n",
    "    nesw = {'N':(0,1), 'E': (1,0), 'S': (0,-1), 'W': (-1,0)}\n",
    "    for row in ship_reader:\n",
    "        cmd = row.strip()\n",
    "        mv = cmd[0]\n",
    "        val = int(cmd[1:])\n",
    "        if mv in nesw:\n",
    "            wp_latitude += val * nesw[mv][1]\n",
    "            wp_longitude += val * nesw[mv][0]\n",
    "        elif mv == 'R':\n",
    "            num = int(val / 90) % 4\n",
    "            for i in range(num):\n",
    "                temp = wp_longitude\n",
    "                wp_longitude = wp_latitude\n",
    "                wp_latitude = -1 * temp\n",
    "        elif mv == 'L':\n",
    "            num = int(val / 90) % 4\n",
    "            for i in range(num):\n",
    "                temp = wp_longitude\n",
    "                wp_longitude = -1 * wp_latitude\n",
    "                wp_latitude = temp\n",
    "        elif mv == 'F':\n",
    "            latitude += val * wp_latitude\n",
    "            longitude += val * wp_longitude\n",
    "        #print(cmd)\n",
    "        #print(latitude, longitude, wp_latitude, wp_longitude)\n",
    "print(abs(latitude) + abs(longitude))"
   ]
  },
  {
   "cell_type": "markdown",
   "metadata": {},
   "source": [
    "### 12/13 - 1\n",
    "What is the ID of the earliest bus you can take to the airport multiplied by the number of minutes you'll need to wait for that bus?"
   ]
  },
  {
   "cell_type": "code",
   "execution_count": 197,
   "metadata": {},
   "outputs": [
    {
     "name": "stdout",
     "output_type": "stream",
     "text": [
      "2382\n"
     ]
    }
   ],
   "source": [
    "with open('AoC2020/Day13.txt', 'r') as bus_f:\n",
    "    time_stamp = int(bus_f.readline().strip())\n",
    "    buses = list(bus_f.readline().strip().split(','))\n",
    "    buses = np.array([int(i) for i in buses if i != 'x'])\n",
    "    print(buses[(buses - (time_stamp % buses)).argmin()] * (buses - (time_stamp % buses))[(buses - (time_stamp % buses)).argmin()])"
   ]
  },
  {
   "cell_type": "markdown",
   "metadata": {},
   "source": [
    "### 12/13 - 2\n",
    "What is the earliest timestamp such that all of the listed bus IDs depart at offsets matching their positions in the list?"
   ]
  },
  {
   "cell_type": "code",
   "execution_count": 309,
   "metadata": {},
   "outputs": [],
   "source": [
    "def earliestPair(x, y, modx, mody):\n",
    "    #print(x, y, modx, mody)\n",
    "    now = modx\n",
    "    while True:\n",
    "        if (now + mody) % y == 0:\n",
    "            break\n",
    "        now += x\n",
    "    #now += x\n",
    "    return(now)"
   ]
  },
  {
   "cell_type": "code",
   "execution_count": 310,
   "metadata": {},
   "outputs": [
    {
     "name": "stdout",
     "output_type": "stream",
     "text": [
      "906332393333683\n"
     ]
    }
   ],
   "source": [
    "with open('AoC2020/Day13.txt', 'r') as bus_f:\n",
    "    next(bus_f)\n",
    "    buses = list(bus_f.readline().strip().split(','))\n",
    "    bus_num = []\n",
    "    bus_idx = []\n",
    "    for i in range(len(buses)):\n",
    "        if buses[i].isnumeric():\n",
    "            bus_num.append(int(buses[i]))\n",
    "            bus_idx.append(i)\n",
    "    bus_num = np.array(bus_num)\n",
    "    bus_idx = np.array(bus_idx)\n",
    "    \n",
    "    interval = bus_num[0]\n",
    "    modx = 0\n",
    "    for i in range(1,len(bus_num)):\n",
    "        modx = earliestPair(interval,bus_num[i],modx,bus_idx[i])\n",
    "        interval = interval * bus_num[i]\n",
    "    print(modx)\n"
   ]
  },
  {
   "cell_type": "markdown",
   "metadata": {},
   "source": [
    "### 12/14 - 1\n",
    "Execute the initialization program. What is the sum of all values left in memory after it completes?"
   ]
  },
  {
   "cell_type": "code",
   "execution_count": 339,
   "metadata": {},
   "outputs": [],
   "source": [
    "def applyMask(num, mask):\n",
    "    output = list('0'*(36 - len(num)) + num)\n",
    "    for i in range(36):\n",
    "        if mask[i] == '1':\n",
    "            output[i] = '1'\n",
    "        elif mask[i] == '0':\n",
    "            output[i] = '0'\n",
    "    return int(''.join(output),2)"
   ]
  },
  {
   "cell_type": "code",
   "execution_count": 338,
   "metadata": {},
   "outputs": [
    {
     "name": "stdout",
     "output_type": "stream",
     "text": [
      "12135523360904\n"
     ]
    }
   ],
   "source": [
    "with open('AoC2020/Day14.txt', 'r') as mem_f:\n",
    "    mem_reader = mem_f.readlines()\n",
    "    mem = {}\n",
    "    for row in mem_reader:\n",
    "        cmd = row.strip().split(' = ')\n",
    "        if cmd[0] == 'mask':\n",
    "            mask = cmd[1]\n",
    "        else:\n",
    "            slot = cmd[0].strip(']').strip('mem[')\n",
    "            num = bin(int(cmd[1]))[2:]\n",
    "            mem[slot] = applyMask(num, mask)\n",
    "\n",
    "total = 0           \n",
    "for key in mem:\n",
    "    total += mem[key]\n",
    "print(total)"
   ]
  },
  {
   "cell_type": "markdown",
   "metadata": {},
   "source": [
    "### 12/14 - 2\n",
    "Execute the initialization program using an emulator for a version 2 decoder chip. What is the sum of all values left in memory after it completes?"
   ]
  },
  {
   "cell_type": "code",
   "execution_count": 354,
   "metadata": {},
   "outputs": [],
   "source": [
    "def newApplyMask(num, mask):\n",
    "    initial = list('0'*(36 - len(num)) + num)\n",
    "    outputs = ['']\n",
    "    for i in range(36):\n",
    "        if mask[i] == '1':\n",
    "            for j in range(len(outputs)):\n",
    "                outputs[j] += '1'\n",
    "        elif mask[i] == '0':\n",
    "            for j in range(len(outputs)):\n",
    "                outputs[j] += initial[i]    \n",
    "        elif mask[i] == 'X':\n",
    "            loop = len(outputs)\n",
    "            for j in range(loop):\n",
    "                outputs.append(outputs[j]+'1')\n",
    "                outputs[j] += '0'\n",
    "\n",
    "    return outputs"
   ]
  },
  {
   "cell_type": "code",
   "execution_count": 355,
   "metadata": {},
   "outputs": [
    {
     "name": "stdout",
     "output_type": "stream",
     "text": [
      "2741969047858\n"
     ]
    }
   ],
   "source": [
    "with open('AoC2020/Day14.txt', 'r') as mem_f:\n",
    "    mem_reader = mem_f.readlines()\n",
    "    newmem = {}\n",
    "    for row in mem_reader:\n",
    "        cmd = row.strip().split(' = ')\n",
    "        if cmd[0] == 'mask':\n",
    "            mask = cmd[1]\n",
    "        else:\n",
    "            add_input = bin(int(cmd[0].strip(']').strip('mem[')))[2:]\n",
    "            num = int(cmd[1])\n",
    "            addresses = newApplyMask(add_input, mask)\n",
    "            for slot in addresses:\n",
    "                newmem[slot] = num\n",
    "\n",
    "total = 0           \n",
    "for key in newmem:\n",
    "    total += newmem[key]\n",
    "print(total)"
   ]
  },
  {
   "cell_type": "markdown",
   "metadata": {},
   "source": [
    "### 12/15 - 1\n",
    "- If that was the first time the number has been spoken, the current player says 0.\n",
    "- Otherwise, the number had been spoken before; the current player announces how many turns apart the number is from when it was previously spoken.\n",
    "\n",
    "Given your starting numbers, what will be the 2020th number spoken?"
   ]
  },
  {
   "cell_type": "code",
   "execution_count": 379,
   "metadata": {},
   "outputs": [
    {
     "name": "stdout",
     "output_type": "stream",
     "text": [
      "2020 1238\n"
     ]
    }
   ],
   "source": [
    "game_start = [9,6,0,10,18,2,1]\n",
    "#game_start = [0,3,6]\n",
    "game_dict = {}\n",
    "count = len(game_start)-1\n",
    "for i in range(count):\n",
    "    game_dict[game_start[i]] = i+1\n",
    "\n",
    "prev = game_start[-1]\n",
    "while count < 2019: #2020:\n",
    "    count += 1\n",
    "    if prev in game_dict:\n",
    "        temp = count-game_dict[prev]\n",
    "        game_dict[prev] = count\n",
    "        prev = temp\n",
    "    else:\n",
    "        game_dict[prev] = count\n",
    "        prev = 0\n",
    "print(count+1, prev)      \n"
   ]
  },
  {
   "cell_type": "code",
   "execution_count": 360,
   "metadata": {},
   "outputs": [
    {
     "data": {
      "text/plain": [
       "{9: 1, 6: 2, 0: 3, 10: 4, 18: 5, 2: 6}"
      ]
     },
     "execution_count": 360,
     "metadata": {},
     "output_type": "execute_result"
    }
   ],
   "source": [
    "game_dict"
   ]
  },
  {
   "cell_type": "markdown",
   "metadata": {},
   "source": [
    "### 12/15 - 2\n",
    "- If that was the first time the number has been spoken, the current player says 0.\n",
    "- Otherwise, the number had been spoken before; the current player announces how many turns apart the number is from when it was previously spoken.\n",
    "\n",
    "Given your starting numbers, what will be the 30000000th number spoken?"
   ]
  },
  {
   "cell_type": "code",
   "execution_count": 380,
   "metadata": {},
   "outputs": [
    {
     "name": "stdout",
     "output_type": "stream",
     "text": [
      "30000000 3745954\n"
     ]
    }
   ],
   "source": [
    "game_start = [9,6,0,10,18,2,1]\n",
    "#game_start = [0,3,6]\n",
    "game_dict = {}\n",
    "count = len(game_start)-1\n",
    "for i in range(count):\n",
    "    game_dict[game_start[i]] = i+1\n",
    "\n",
    "prev = game_start[-1]\n",
    "while count < 30000000 - 1:\n",
    "    count += 1\n",
    "    if prev in game_dict:\n",
    "        temp = count-game_dict[prev]\n",
    "        game_dict[prev] = count\n",
    "        prev = temp\n",
    "    else:\n",
    "        game_dict[prev] = count\n",
    "        prev = 0\n",
    "print(count+1, prev)"
   ]
  },
  {
   "cell_type": "markdown",
   "metadata": {},
   "source": [
    "### 12/16 - 1\n",
    "Consider the validity of the nearby tickets you scanned. What is your ticket scanning error rate?"
   ]
  },
  {
   "cell_type": "code",
   "execution_count": 440,
   "metadata": {},
   "outputs": [
    {
     "name": "stdout",
     "output_type": "stream",
     "text": [
      "29878\n"
     ]
    }
   ],
   "source": [
    "with open('AoC2020/Day16.txt', 'r') as ticket_f:\n",
    "    ticket_reader = ticket_f.readlines()\n",
    "    rule, mine = np.where(np.array(ticket_reader) == '\\n')[0]\n",
    "    possible = set()\n",
    "    field_range = dict()\n",
    "    errors = []\n",
    "    valid_tickets = []\n",
    "    for i in range(rule):\n",
    "        field = ticket_reader[i].strip().split(':')[0].strip()\n",
    "        field_range[field] = set()\n",
    "        low, high = ticket_reader[i].strip().split(':')[1].split()[0].split('-')\n",
    "        possible = possible.union(set(range(int(low), int(high)+1)))\n",
    "        field_range[field] = field_range[field].union(set(range(int(low), int(high)+1)))\n",
    "        low, high = ticket_reader[i].strip().split(':')[1].split()[2].split('-')\n",
    "        possible = possible.union(set(range(int(low), int(high)+1)))\n",
    "        field_range[field] = field_range[field].union(set(range(int(low), int(high)+1)))\n",
    "    \n",
    "    my_ticket = [int(i) for i in ticket_reader[mine-1].strip().split(',')]\n",
    "    \n",
    "    for i in range(mine+2, len(ticket_reader)):\n",
    "        nums = ticket_reader[i].strip().split(',')\n",
    "        valid = True\n",
    "        for num in nums:\n",
    "            if int(num) not in possible:\n",
    "                errors.append(int(num))\n",
    "                valid = False\n",
    "        if valid:\n",
    "            nums = [int(num) for num in nums]\n",
    "            valid_tickets.append(nums)\n",
    "print(sum(errors))"
   ]
  },
  {
   "cell_type": "markdown",
   "metadata": {},
   "source": [
    "### 12/16 - 2\n",
    "Once you work out which field is which, look for the six fields on your ticket that start with the word departure. What do you get if you multiply those six values together?"
   ]
  },
  {
   "cell_type": "code",
   "execution_count": 444,
   "metadata": {},
   "outputs": [
    {
     "name": "stdout",
     "output_type": "stream",
     "text": [
      "855438643439\n"
     ]
    }
   ],
   "source": [
    "field_idx = [None] * len(valid_tickets[0])\n",
    "valid_field = dict()\n",
    "for field in field_range:\n",
    "    valid_idx = [True] * len(valid_tickets[0])\n",
    "\n",
    "    for ticket in valid_tickets:\n",
    "        for i in range(len(ticket)):\n",
    "            if ticket[i] in field_range[field]:\n",
    "                valid_idx[i] = valid_idx[i] and True\n",
    "            else:\n",
    "                valid_idx[i] = valid_idx[i] and False\n",
    "    valid_field[field] = list(np.where(valid_idx)[0])\n",
    "\n",
    "empty = 0\n",
    "for i in range(20):\n",
    "    for field in valid_field:\n",
    "        if len(valid_field[field]) == 1:\n",
    "            idx = valid_field[field][0]\n",
    "            field_idx[idx] = field\n",
    "\n",
    "            for field in valid_field:\n",
    "                if idx in valid_field[field]:\n",
    "                    valid_field[field].remove(idx)\n",
    "\n",
    "prod = 1\n",
    "for i in range(len(field_idx)):\n",
    "    if 'departure' in field_idx[i]:\n",
    "        prod *= my_ticket[i]\n",
    "print(prod)"
   ]
  },
  {
   "cell_type": "markdown",
   "metadata": {},
   "source": [
    "### 12/17 - 1\n",
    "Starting with your given initial configuration, simulate six cycles. How many cubes are left in the active state after the sixth cycle?"
   ]
  },
  {
   "cell_type": "code",
   "execution_count": 509,
   "metadata": {},
   "outputs": [
    {
     "name": "stdout",
     "output_type": "stream",
     "text": [
      "336\n"
     ]
    }
   ],
   "source": [
    "# Original layout is 8 x 8 x 1. But I pad rows / columns / heights of '.' to account for six cycles and edge case\n",
    "# Resulting in a 22 x 22 x 15 matrix\n",
    "with open('AoC2020/Day17.txt', 'r') as cube_f:\n",
    "    cube_reader = cube_f.readlines()\n",
    "    cube_space = [[['.' for x in range(22)] for y in range(22)] for z in range(15)]   # 22 x 22 x 15\n",
    "        \n",
    "    i = 7\n",
    "    for row in cube_reader:\n",
    "        j = 7\n",
    "        initial = list(row.strip())\n",
    "        for cube in initial:\n",
    "            cube_space[7][i][j] = cube\n",
    "            j += 1\n",
    "        i += 1\n",
    "\n",
    "for i in range(6):\n",
    "    cube_space = nextCycle(cube_space)\n",
    "\n",
    "count = 0\n",
    "for i in range(1,len(cube_space)-1):\n",
    "    for j in range(1,len(cube_space[i])-1):\n",
    "        for k in range(1,len(cube_space[i][j])-1):\n",
    "            if cube_space[i][j][k] == '#':\n",
    "                count += 1\n",
    "print(count)                    "
   ]
  },
  {
   "cell_type": "code",
   "execution_count": 505,
   "metadata": {},
   "outputs": [],
   "source": [
    "def printSpace (cube_space):\n",
    "    for plane in cube_space:\n",
    "        for row in plane:\n",
    "            print(''.join(row))\n",
    "        print()\n",
    "\n",
    "def countActive(i,j,k, cube_space):\n",
    "    count = 0\n",
    "    for m in range(i-1, i+2):\n",
    "        for n in range(j-1, j+2):\n",
    "            for o in range(k-1, k+2):\n",
    "                if m != i or n != j or o != k:\n",
    "                    if cube_space[m][n][o] == '#':\n",
    "                        count += 1\n",
    "    return(count)\n",
    "\n",
    "def nextCycle(cube_space):\n",
    "    new_cube_space = spaceCopy(cube_space) #[x[:] for x in cube_space]\n",
    "    changeCount = 0\n",
    "    for i in range(1,len(cube_space)-1):\n",
    "        for j in range(1,len(cube_space[i])-1):\n",
    "            for k in range(1,len(cube_space[i][j])-1):\n",
    "                numActive = countActive(i,j,k, cube_space)\n",
    "                if cube_space[i][j][k] == '#' and (numActive != 2 and numActive != 3):\n",
    "                    new_cube_space[i][j][k] = '.'\n",
    "                elif cube_space[i][j][k] == '.' and numActive == 3:\n",
    "                    new_cube_space[i][j][k] = '#'\n",
    "\n",
    "    return new_cube_space\n",
    "\n",
    "def spaceCopy(space):\n",
    "    newSpace = [[['.' for x in range(len(space[0][0]))] for y in range(len(space[0]))] for z in range(len(space))]\n",
    "    for i in range(len(space)):\n",
    "        for j in range(len(space[i])):\n",
    "            for k in range(len(space[i][j])):\n",
    "                if space[i][j][k] == '#':\n",
    "                    newSpace[i][j][k] = '#'\n",
    "    return newSpace"
   ]
  },
  {
   "cell_type": "markdown",
   "metadata": {},
   "source": [
    "### 12/17 - 2\n",
    "Starting with your given initial configuration, simulate six cycles in a 4-dimensional space. How many cubes are left in the active state after the sixth cycle?"
   ]
  },
  {
   "cell_type": "code",
   "execution_count": 517,
   "metadata": {},
   "outputs": [
    {
     "name": "stdout",
     "output_type": "stream",
     "text": [
      "2620\n"
     ]
    }
   ],
   "source": [
    "# Original layout is 8 x 8 x 1 x 1. But I pad rows / columns / heights / time of '.' to account for six cycles and edge case\n",
    "# Resulting in a 22 x 22 x 15 x 15matrix\n",
    "with open('AoC2020/Day17.txt', 'r') as cube_f:\n",
    "    cube_reader = cube_f.readlines()\n",
    "    hypercube_space = [[[['.' for x in range(22)] for y in range(22)] for z in range(15)] for w in range(15)]   # 22 x 22 x 15 x 15\n",
    "        \n",
    "    i = 7\n",
    "    for row in cube_reader:\n",
    "        j = 7\n",
    "        initial = list(row.strip())\n",
    "        for hypercube in initial:\n",
    "            hypercube_space[7][7][i][j] = hypercube\n",
    "            j += 1\n",
    "        i += 1\n",
    "    \n",
    "for i in range(6):\n",
    "    hypercube_space = newnextCycle(hypercube_space)\n",
    "\n",
    "count = 0\n",
    "for i in range(1,len(hypercube_space)-1):\n",
    "    for j in range(1,len(hypercube_space[i])-1):\n",
    "        for k in range(1,len(hypercube_space[i][j])-1):\n",
    "            for l in range(1,len(hypercube_space[i][j][k])-1):\n",
    "                if hypercube_space[i][j][k][l] == '#':\n",
    "                    count += 1\n",
    "print(count)                    "
   ]
  },
  {
   "cell_type": "code",
   "execution_count": 511,
   "metadata": {},
   "outputs": [],
   "source": [
    "def newprintSpace (cube_space):\n",
    "    for time in cube_space:\n",
    "        for space in time:\n",
    "            for row in plane:\n",
    "                print(''.join(row))\n",
    "            print()\n",
    "    print()\n",
    "\n",
    "def newcountActive(i,j,k,l, cube_space):\n",
    "    count = 0\n",
    "    for m in range(i-1, i+2):\n",
    "        for n in range(j-1, j+2):\n",
    "            for o in range(k-1, k+2):\n",
    "                for p in range(l-1, l+2):\n",
    "                    if m != i or n != j or o != k or p != l:\n",
    "                        if cube_space[m][n][o][p] == '#':\n",
    "                            count += 1\n",
    "    return(count)\n",
    "\n",
    "def newnextCycle(cube_space):\n",
    "    new_cube_space = newspaceCopy(cube_space) #[x[:] for x in cube_space]\n",
    "    for i in range(1,len(cube_space)-1):\n",
    "        for j in range(1,len(cube_space[i])-1):\n",
    "            for k in range(1,len(cube_space[i][j])-1):\n",
    "                for l in range(1,len(cube_space[i][j][k])-1):\n",
    "                    numActive = newcountActive(i,j,k,l, cube_space)\n",
    "                    if cube_space[i][j][k][l] == '#' and (numActive != 2 and numActive != 3):\n",
    "                        new_cube_space[i][j][k][l] = '.'\n",
    "                    elif cube_space[i][j][k][l] == '.' and numActive == 3:\n",
    "                        new_cube_space[i][j][k][l] = '#'\n",
    "\n",
    "    return new_cube_space\n",
    "\n",
    "def newspaceCopy(space):\n",
    "    newSpace = [[[['.' for x in range(len(space[0][0][0]))] for y in range(len(space[0][0]))] for z in range(len(space[0]))] for w in range(len(space))]\n",
    "    for i in range(len(space)):\n",
    "        for j in range(len(space[i])):\n",
    "            for k in range(len(space[i][j])):\n",
    "                for l in range(len(space[i][j][k])):\n",
    "                    if space[i][j][k][l] == '#':\n",
    "                        newSpace[i][j][k][l] = '#'\n",
    "    return newSpace"
   ]
  },
  {
   "cell_type": "markdown",
   "metadata": {},
   "source": [
    "### 12/18 - 1\n",
    "Evaluate the expression on each line of the homework; what is the sum of the resulting values?"
   ]
  },
  {
   "cell_type": "code",
   "execution_count": 598,
   "metadata": {},
   "outputs": [],
   "source": [
    "def compute(expression):\n",
    "    expression = expression.replace(' ','')\n",
    "    if '(' in expression:\n",
    "        start = 0\n",
    "        end = len(expression)-1\n",
    "        for i in range(len(expression)):\n",
    "            if expression[i] == '(':\n",
    "                start = i\n",
    "            elif expression[i] == ')':\n",
    "                end = i\n",
    "                break\n",
    "        output = newcompute(expression[start+1:end])\n",
    "        removed = expression[:start] + str(output) + expression[end+1:]\n",
    "        \n",
    "        return newcompute(removed)\n",
    "    else:\n",
    "        ## when there are no further parentheses within\n",
    "        cur = None\n",
    "        oper = None\n",
    "        num = ''\n",
    "        for i in range(len(expression)):\n",
    "            if expression[i] == '+':\n",
    "                if cur == None:\n",
    "                    cur = 0\n",
    "                    oper = '+'\n",
    "                cur = operate(cur, int(num), oper)\n",
    "                oper = '+'\n",
    "                num = ''\n",
    "            elif expression[i] == '*':\n",
    "                if cur == None:\n",
    "                    cur = 1\n",
    "                    oper = '*'\n",
    "                cur = operate(cur, int(num), oper)\n",
    "                oper = '*'\n",
    "                num = ''\n",
    "            else:\n",
    "                ## still numbers\n",
    "                num += expression[i]\n",
    "        cur = operate(cur, int(num), oper)   \n",
    "\n",
    "        return cur"
   ]
  },
  {
   "cell_type": "code",
   "execution_count": 583,
   "metadata": {},
   "outputs": [],
   "source": [
    "def operate(a, b, oper):\n",
    "    if oper == '+':\n",
    "        a += b\n",
    "    elif oper == '*':\n",
    "        a *= b\n",
    "    return a"
   ]
  },
  {
   "cell_type": "code",
   "execution_count": 585,
   "metadata": {},
   "outputs": [
    {
     "name": "stdout",
     "output_type": "stream",
     "text": [
      "69490582260\n"
     ]
    }
   ],
   "source": [
    "with open('AoC2020/Day18.txt', 'r') as math_f:\n",
    "    math_reader = math_f.readlines()\n",
    "\n",
    "    total = 0\n",
    "    for row in math_reader:\n",
    "        expr = row.strip().replace(' ', '')\n",
    "        total += compute(expr)\n",
    "    print(total)"
   ]
  },
  {
   "cell_type": "markdown",
   "metadata": {},
   "source": [
    "### 12/18 - 2\n",
    "What do you get if you add up the results of evaluating the homework problems using these new rules?"
   ]
  },
  {
   "cell_type": "code",
   "execution_count": 621,
   "metadata": {},
   "outputs": [],
   "source": [
    "def newcompute(expression):\n",
    "    expression = expression.replace(' ','')\n",
    "    if '(' in expression:\n",
    "        start = 0\n",
    "        end = len(expression)-1\n",
    "        for i in range(len(expression)):\n",
    "            if expression[i] == '(':\n",
    "                start = i\n",
    "            elif expression[i] == ')':\n",
    "                end = i\n",
    "                break\n",
    "        output = newcompute(expression[start+1:end])\n",
    "        removed = expression[:start] + str(output) + expression[end+1:]\n",
    "        return newcompute(removed)\n",
    "    else:\n",
    "        ## when there are no further parentheses within\n",
    "        only_sums = expression.split('*')\n",
    "        if len(only_sums) == 1:\n",
    "            return compute(only_sums[0])\n",
    "        for i in range(len(only_sums)):\n",
    "            if '+' in only_sums[i]:\n",
    "                only_sums[i] = str(compute(only_sums[i]))\n",
    "            \n",
    "        return compute('*'.join(only_sums))"
   ]
  },
  {
   "cell_type": "code",
   "execution_count": 622,
   "metadata": {},
   "outputs": [
    {
     "name": "stdout",
     "output_type": "stream",
     "text": [
      "362464596624526\n"
     ]
    }
   ],
   "source": [
    "with open('AoC2020/Day18.txt', 'r') as math_f:\n",
    "    math_reader = math_f.readlines()\n",
    "\n",
    "    total = 0\n",
    "    for row in math_reader:\n",
    "        expr = row.strip().replace(' ', '')\n",
    "        total += newcompute(expr)\n",
    "    print(total)"
   ]
  },
  {
   "cell_type": "markdown",
   "metadata": {},
   "source": [
    "### 12/19 - 1\n",
    "How many messages completely match rule 0?"
   ]
  },
  {
   "cell_type": "code",
   "execution_count": 728,
   "metadata": {},
   "outputs": [],
   "source": [
    "def findPossible(rules):\n",
    "    possible = [None] * len(rules)\n",
    "    filled = []\n",
    "    \n",
    "    # Initialize with a and b\n",
    "    for i in range(len(possible)):\n",
    "        for rule in rules[str(i)]:\n",
    "            for item in rule:\n",
    "                if '\"' in item:\n",
    "                    possible[i] = [rule[0].strip('\"')]\n",
    "                    filled.append(i)\n",
    "   \n",
    "    while possible[0] == None:\n",
    "        for i in range(len(possible)):\n",
    "            ## No need to fill in the possible messages    \n",
    "            if i in filled:\n",
    "                continue\n",
    "\n",
    "            ## Checking if every rule is already filled in\n",
    "            ready = True\n",
    "            for rule in rules[str(i)]:\n",
    "                for item in rule:\n",
    "                    if int(item) not in filled: \n",
    "                        ready = False\n",
    "                        break\n",
    "\n",
    "            ## If every rule is filled, figure out the possible messages here\n",
    "            if ready:\n",
    "                valids = []\n",
    "                for rule in rules[str(i)]:\n",
    "                    valids.extend(validMessages(possible, rule)) \n",
    "                possible[i] = valids\n",
    "                filled.append(i)\n",
    "\n",
    "    return possible           "
   ]
  },
  {
   "cell_type": "code",
   "execution_count": 715,
   "metadata": {},
   "outputs": [],
   "source": [
    "def validMessages(possible, rule):\n",
    "    valids = ['']\n",
    "    for item in rule:\n",
    "        roots = valids.copy()\n",
    "        valids = []\n",
    "        for x in possible[int(item)]:\n",
    "            for root in roots:\n",
    "                valids.append(root+x)\n",
    "    return valids"
   ]
  },
  {
   "cell_type": "code",
   "execution_count": 729,
   "metadata": {},
   "outputs": [
    {
     "name": "stdout",
     "output_type": "stream",
     "text": [
      "224\n",
      "96\n"
     ]
    }
   ],
   "source": [
    "with open('AoC2020/Day19.txt', 'r') as monster_f:\n",
    "    monster_reader = monster_f.readlines()\n",
    "    \n",
    "    code_idx = 0\n",
    "    rules = dict()\n",
    "\n",
    "    for i in range(len(monster_reader)):\n",
    "        row = monster_reader[i]\n",
    "        if row == '\\n':\n",
    "            message_idx = i+1\n",
    "            #print(monster_reader[i])\n",
    "            break\n",
    "        rule_num = row.strip().split(': ')[0]\n",
    "        items = row.strip().split(': ')[1].split(' | ')\n",
    "\n",
    "        #print(row.strip().split(': ')[1].split(' | '))\n",
    "        rules[rule_num] = []\n",
    "        for item in items:\n",
    "            rules[rule_num].append(item.split()) \n",
    "    possible = findPossible(rules)\n",
    "    \n",
    "    count = 0\n",
    "    lenmax = 0\n",
    "    for j in range(message_idx, len(monster_reader)):\n",
    "        message = monster_reader[j].strip()\n",
    "        if message in possible[0]:\n",
    "            count += 1\n",
    "\n",
    "    print(count)   "
   ]
  },
  {
   "cell_type": "markdown",
   "metadata": {},
   "source": [
    "### 12/19 - 2\n",
    "How many messages completely match rule 0?"
   ]
  },
  {
   "cell_type": "code",
   "execution_count": 778,
   "metadata": {},
   "outputs": [],
   "source": [
    "def checkMessage(possible, message):\n",
    "    if len(message) == 24:\n",
    "        if message in possible[0]:\n",
    "            return True\n",
    "        else:\n",
    "            return False\n",
    "    elif len(message) > 24:\n",
    "        length = len(message)\n",
    "        loop = int(length / 8)\n",
    "        struct = []\n",
    "        for i in range(loop):\n",
    "            if message[8*i:8*(i+1)] in possible[42]:\n",
    "                struct.append('a')\n",
    "            elif message[8*i:8*(i+1)] in possible[31]:\n",
    "                struct.append('b')\n",
    "            else:\n",
    "                return False\n",
    "\n",
    "        # Check that a appears more than b\n",
    "        # Check that all a appear before b\n",
    "        if struct.count('a') > struct.count('b'):\n",
    "            if set(struct[:struct.count('a')]) == {'a'} and set(struct[-1*struct.count('b'):]) == {'b'}:\n",
    "                return True\n",
    "        return False"
   ]
  },
  {
   "cell_type": "code",
   "execution_count": 779,
   "metadata": {},
   "outputs": [
    {
     "name": "stdout",
     "output_type": "stream",
     "text": [
      "436\n"
     ]
    }
   ],
   "source": [
    "with open('AoC2020/Day19.txt', 'r') as monster_f:\n",
    "    monster_reader = monster_f.readlines()\n",
    "    \n",
    "    code_idx = 0\n",
    "    rules = dict()\n",
    "\n",
    "    for i in range(len(monster_reader)):\n",
    "        row = monster_reader[i]\n",
    "        if row == '\\n':\n",
    "            message_idx = i+1\n",
    "            break\n",
    "        rule_num = row.strip().split(': ')[0]\n",
    "        items = row.strip().split(': ')[1].split(' | ')\n",
    "\n",
    "        rules[rule_num] = []\n",
    "        for item in items:\n",
    "            rules[rule_num].append(item.split()) \n",
    "\n",
    "    possible = findPossible(rules)\n",
    "    \n",
    "    count = 0\n",
    "    for j in range(message_idx, len(monster_reader)):\n",
    "        if checkMessage(possible, monster_reader[j].strip()):\n",
    "            count += 1\n",
    "\n",
    "    print(count)"
   ]
  },
  {
   "cell_type": "markdown",
   "metadata": {},
   "source": [
    "### 12/20 - 1\n",
    "Assemble the tiles into an image. What do you get if you multiply together the IDs of the four corner tiles?"
   ]
  },
  {
   "cell_type": "code",
   "execution_count": 932,
   "metadata": {},
   "outputs": [
    {
     "name": "stdout",
     "output_type": "stream",
     "text": [
      "3881\n",
      "1153\n",
      "1163\n",
      "1619\n",
      "8425574315321\n"
     ]
    }
   ],
   "source": [
    "with open('AoC2020/Day20.txt', 'r') as tile_f:\n",
    "#with open('AoC2020/input20.txt', 'r') as tile_f:    \n",
    "    tile_reader = tile_f.readlines()\n",
    "    numtiles = int((len(tile_reader)+1) / 12)\n",
    "    \n",
    "    tileDict= dict()\n",
    "    edgeDict = dict()\n",
    "    edgeList = []\n",
    "    \n",
    "    for i in range(numtiles):\n",
    "        tile_id = int(tile_reader[12*i].strip().split()[1].strip(':'))\n",
    "        \n",
    "        tile_image = []\n",
    "        binary_image = []\n",
    "        for j in range(10):\n",
    "            tile_image.append(tile_reader[12*i+j+1].strip())\n",
    "            binary_image.append(tile_reader[12*i+j+1].strip().replace('.','0').replace('#', '1'))\n",
    "        \n",
    "        tileDict[tile_id] = tile_image\n",
    "        edges = findEdges(binary_image)\n",
    "        edgeDict[tile_id] = edges\n",
    "        edgeList.extend(edges)\n",
    "    \n",
    "    prod = 1\n",
    "    for tile_id in edgeDict:\n",
    "        countEnd = 0\n",
    "        for edge in edgeDict[tile_id]:\n",
    "            if edgeList.count(edge) == 1:\n",
    "                countEnd += 1\n",
    "        if countEnd == 4:\n",
    "            prod *= tile_id\n",
    "            print(tile_id)\n",
    "    print(prod)"
   ]
  },
  {
   "cell_type": "code",
   "execution_count": 1059,
   "metadata": {},
   "outputs": [],
   "source": [
    "def findEdges(tile_image):\n",
    "    top = tile_image[0]\n",
    "    left = ''.join([x[0] for x in tile_image])\n",
    "    bottom = tile_image[9]\n",
    "    right = ''.join([x[9] for x in tile_image])\n",
    "    \n",
    "    return [int(top,2), int(left[::-1],2), int(bottom[::-1], 2), int(right, 2), int(top[::-1],2), int(left,2), int(bottom, 2), int(right[::-1], 2)]"
   ]
  },
  {
   "cell_type": "markdown",
   "metadata": {},
   "source": [
    "### 12/20 - 2\n",
    "How many # are not part of a sea monster?"
   ]
  },
  {
   "cell_type": "code",
   "execution_count": 1061,
   "metadata": {},
   "outputs": [],
   "source": [
    "with open('AoC2020/Day20.txt', 'r') as tile_f:\n",
    "#with open('AoC2020/input20.txt', 'r') as tile_f:    \n",
    "    tile_reader = tile_f.readlines()\n",
    "    numtiles = int((len(tile_reader)+1) / 12)\n",
    "    \n",
    "    tileDict= dict()\n",
    "    edgeDict = dict()\n",
    "    edgeList = []\n",
    "    \n",
    "    for i in range(numtiles):\n",
    "        tile_id = int(tile_reader[12*i].strip().split()[1].strip(':'))\n",
    "        \n",
    "        tile_image = []\n",
    "        binary_image = []\n",
    "        for j in range(10):\n",
    "            tile_image.append(tile_reader[12*i+j+1].strip())\n",
    "            #binary_image.append(tile_reader[12*i+j+1].strip().replace('.','0').replace('#', '1'))\n",
    "        \n",
    "        tileDict[tile_id] = tile_image\n",
    "        edges = newfindEdges(tile_image)\n",
    "        edgeDict[tile_id] = edges\n",
    "        edgeList.extend(edges)"
   ]
  },
  {
   "cell_type": "code",
   "execution_count": 1020,
   "metadata": {},
   "outputs": [],
   "source": [
    "def newfindEdges(tile_image):\n",
    "    top = tile_image[0]\n",
    "    left = ''.join([x[0] for x in tile_image])\n",
    "    bottom = tile_image[9]\n",
    "    right = ''.join([x[9] for x in tile_image])\n",
    "    \n",
    "    return [top, left[::-1], bottom[::-1], right, top[::-1], left, bottom, right[::-1]]"
   ]
  },
  {
   "cell_type": "code",
   "execution_count": 1033,
   "metadata": {},
   "outputs": [],
   "source": [
    "### Start with corner piece 3881\n",
    "### Start with corner piece 1951 (test)\n",
    "def solvePuzzle(tileDict, edgeDict, edgeList):\n",
    "    start = 3881\n",
    "    id_board = [[start]]\n",
    "    final_image = []\n",
    "    remaining_tile = list(tileDict.keys())\n",
    "    row = 0\n",
    "    \n",
    "    # With this, I found that right edge is bottom and top edge is right\n",
    "    # I will define bottom and right accordingly\n",
    "    #for i in range(4):\n",
    "    #    if edgeList.count(edgeDict[start][i]) == 1:\n",
    "    #        print(i)\n",
    "    right = edgeDict[start][0]\n",
    "    bottom = edgeDict[start][3]\n",
    "    final_image = convertImage(tileDict[start], 1)    \n",
    "    remaining_tile.remove(start)\n",
    "    \n",
    "    count = 0\n",
    "    while len(remaining_tile) > 0:\n",
    "        # Find piece that comes to the right\n",
    "        findBottom = True\n",
    "        for piece in remaining_tile:\n",
    "            for i in range(len(edgeDict[piece])):\n",
    "                if edgeDict[piece][i] == right[::-1]:\n",
    "                    id_board[row].append(piece)\n",
    "                    right = edgeDict[piece][findNext(i)]\n",
    "                    remaining_tile.remove(piece)\n",
    "                    findBottom = False\n",
    "                    final_image = addImage(final_image, convertImage(tileDict[piece],findConvertRight(i)), row, True)\n",
    "                    break\n",
    "            if not findBottom:\n",
    "                break\n",
    "        \n",
    "        foundBottom = False\n",
    "        # Find piece that comes in the next row\n",
    "        if findBottom:\n",
    "            row += 1\n",
    "            for piece in remaining_tile:\n",
    "                for i in range(len(edgeDict[piece])):\n",
    "                    if edgeDict[piece][i] == bottom[::-1]:\n",
    "                        id_board.append([piece])\n",
    "                        bottom = edgeDict[piece][findNext(i)]           \n",
    "                        remaining_tile.remove(piece)\n",
    "                        final_image = addImage(final_image, convertImage(tileDict[piece],i), row, False)\n",
    "                        right = edgeDict[piece][findNewRight(i)]\n",
    "                        foundBottom = True\n",
    "\n",
    "                        break\n",
    "                if foundBottom:\n",
    "                    break\n",
    "\n",
    "    return final_image"
   ]
  },
  {
   "cell_type": "code",
   "execution_count": 1019,
   "metadata": {},
   "outputs": [],
   "source": [
    "def addImage(final_image, new_image, row, right):\n",
    "    if right:\n",
    "        for i in range(8):\n",
    "            final_image[8*row+i] += new_image[i]\n",
    "        #for i in range(10):\n",
    "        #    final_image[10*row+i] += new_image[i]\n",
    "    else:\n",
    "        final_image.extend(new_image)\n",
    "    return final_image\n",
    "\n",
    "def findNext(idx):\n",
    "    if idx < 4:\n",
    "        return (idx + 2) % 4\n",
    "    elif idx > 3:\n",
    "        return 4 + ((idx + 2) % 4)\n",
    "\n",
    "def findConvertRight(idx):\n",
    "    if idx < 4:\n",
    "        return (idx - 1) % 4\n",
    "    elif idx > 3:\n",
    "        return 4 + ((idx + 1) % 4)    \n",
    "\n",
    "def findNewRight(idx):\n",
    "    if idx < 4:\n",
    "        return (idx - 1) % 4\n",
    "    elif idx > 3:\n",
    "        return 4 + ((idx + 1) % 4)    \n",
    "\n",
    "### Functions tested\n",
    "def convertImage(tile_image, convert_idx):\n",
    "    trimmed_image = []\n",
    "    #trimmed_image = tile_image.copy()\n",
    "    for i in range(1,len(tile_image)-1):\n",
    "        trimmed_image.append(tile_image[i][1:len(tile_image[i])-1])\n",
    "  \n",
    "    if convert_idx == 0:  # no change\n",
    "        return trimmed_image\n",
    "    elif convert_idx == 1:  # rotate 90\n",
    "        return rotateImage(trimmed_image)\n",
    "    elif convert_idx == 2:  # rotate 180\n",
    "        return rotateImage(rotateImage(trimmed_image))\n",
    "    elif convert_idx == 3:  # rotate 270\n",
    "        return rotateImage(rotateImage(rotateImage(trimmed_image)))\n",
    "    elif convert_idx == 4:  # rotate 180 then flip\n",
    "        return flipImage(rotateImage(rotateImage(trimmed_image)))\n",
    "    elif convert_idx == 5:  # flip then rotate 90\n",
    "        return rotateImage(flipImage(trimmed_image))\n",
    "    elif convert_idx == 6:  # flip\n",
    "        return flipImage(trimmed_image)\n",
    "    elif convert_idx == 7:  # rotate 90 then flip\n",
    "        return flipImage(rotateImage(trimmed_image))\n",
    "        \n",
    "# flip with a horizonatal axis\n",
    "def flipImage(tile_image):\n",
    "    new_image = tile_image.copy()\n",
    "        \n",
    "    return new_image[::-1]\n",
    "\n",
    "# rotate clockwise 90\n",
    "def rotateImage(tile_image):\n",
    "    new_image = []\n",
    "    for i in range(len(tile_image[0])):\n",
    "        new_image.append(''.join([x[i] for x in tile_image])[::-1])\n",
    "    \n",
    "    return new_image\n",
    "\n",
    "def printImage(image):\n",
    "    for row in image:\n",
    "        print(row)\n",
    "    print()"
   ]
  },
  {
   "cell_type": "code",
   "execution_count": 1055,
   "metadata": {},
   "outputs": [],
   "source": [
    "def findMonster(full_image):\n",
    "    monster = [(0,18),(1,0),(1,5),(1,6),(1,11),(1,12),(1,17),(1,18),(1,19),(2,1),(2,4),(2,7),(2,10),(2,13),(2,16)]\n",
    "    countMonster = 0\n",
    "    countAll = 0\n",
    "    for i in range(len(full_image)-2):\n",
    "        for j in range(len(full_image[i])-19):\n",
    "            yesMonster = True\n",
    "            for down,right in monster:\n",
    "                if full_image[i+down][j+right] != '#':\n",
    "                    yesMonster = False\n",
    "                    break\n",
    "            if yesMonster:\n",
    "                countMonster += 1\n",
    "    return countMonster"
   ]
  },
  {
   "cell_type": "code",
   "execution_count": 1063,
   "metadata": {},
   "outputs": [
    {
     "name": "stdout",
     "output_type": "stream",
     "text": [
      "1841\n"
     ]
    }
   ],
   "source": [
    "# Solving the puzzle\n",
    "solved_image = solvePuzzle(tileDict, edgeDict, edgeList)\n",
    "\n",
    "# Now counting monsters\n",
    "monster = [(0,18),(1,0),(1,5),(1,6),(1,11),(1,12),(1,17),(1,18),(1,19),(2,1),(2,4),(2,7),(2,10),(2,13),(2,16)]\n",
    "\n",
    "# Only this orientation has monsters\n",
    "countAll = 0\n",
    "for row in flipImage(rotateImage(rotateImage(solved_image))):\n",
    "    countAll += row.count('#')\n",
    "print(countAll - len(monster) * findMonster(flipImage(rotateImage(rotateImage(solved_image)))))"
   ]
  },
  {
   "cell_type": "markdown",
   "metadata": {},
   "source": [
    "### 12/21 - 1\n",
    "Determine which ingredients cannot possibly contain any of the allergens in your list. How many times do any of those ingredients appear?"
   ]
  },
  {
   "cell_type": "code",
   "execution_count": 1125,
   "metadata": {},
   "outputs": [],
   "source": [
    "with open('AoC2020/Day21.txt', 'r') as food_f:\n",
    "    food_reader = food_f.readlines()\n",
    "    ingredients = set()\n",
    "    allergenDict = dict()\n",
    "    countIngred = dict()\n",
    "    for row in food_reader:\n",
    "        words = row.strip().replace(')','').replace('(','').replace(',','').split()\n",
    "        isIngredient = True\n",
    "        curIngred = set()\n",
    "        for word in words:\n",
    "            if isIngredient:\n",
    "                if word == 'contains':\n",
    "                    isIngredient = False\n",
    "                    continue\n",
    "                ingredients.add(word)\n",
    "                curIngred.add(word)\n",
    "                if word in countIngred:\n",
    "                    countIngred[word] += 1\n",
    "                else:\n",
    "                    countIngred[word] = 1\n",
    "            else:\n",
    "                if word in allergenDict:\n",
    "                    allergenDict[word] = allergenDict[word].intersection(curIngred)\n",
    "                else:\n",
    "                    allergenDict[word] = curIngred"
   ]
  },
  {
   "cell_type": "code",
   "execution_count": 1126,
   "metadata": {},
   "outputs": [
    {
     "name": "stdout",
     "output_type": "stream",
     "text": [
      "2826\n"
     ]
    }
   ],
   "source": [
    "possibles = set()\n",
    "for allergen in allergenDict:\n",
    "    possibles = possibles.union(allergenDict[allergen])\n",
    "\n",
    "countImp = 0\n",
    "for ingred in countIngred:\n",
    "    if ingred not in possibles:\n",
    "        countImp += countIngred[ingred]\n",
    "print(countImp)"
   ]
  },
  {
   "cell_type": "markdown",
   "metadata": {},
   "source": [
    "### 12/21 - 2\n",
    "Time to stock your raft with supplies. What is your canonical dangerous ingredient list?"
   ]
  },
  {
   "cell_type": "code",
   "execution_count": 1127,
   "metadata": {},
   "outputs": [
    {
     "name": "stdout",
     "output_type": "stream",
     "text": [
      "pbhthx,sqdsxhb,dgvqv,csnfnl,dnlsjr,xzb,lkdg,rsvlb\n"
     ]
    }
   ],
   "source": [
    "with open('AoC2020/Day21.txt', 'r') as food_f:\n",
    "    food_reader = food_f.readlines()\n",
    "    ingredients = set()\n",
    "    allergenDict = dict()\n",
    "    countIngred = dict()\n",
    "    for row in food_reader:\n",
    "        words = row.strip().replace(')','').replace('(','').replace(',','').split()\n",
    "        isIngredient = True\n",
    "        curIngred = set()\n",
    "        for word in words:\n",
    "            if isIngredient:\n",
    "                if word == 'contains':\n",
    "                    isIngredient = False\n",
    "                    continue\n",
    "                ingredients.add(word)\n",
    "                curIngred.add(word)\n",
    "                if word in countIngred:\n",
    "                    countIngred[word] += 1\n",
    "                else:\n",
    "                    countIngred[word] = 1\n",
    "            else:\n",
    "                if word in allergenDict:\n",
    "                    allergenDict[word] = allergenDict[word].intersection(curIngred)\n",
    "                else:\n",
    "                    allergenDict[word] = curIngred\n",
    "\n",
    "finalAllergen = dict()\n",
    "while allergenDict:\n",
    "    for allergen in  allergenDict:\n",
    "        if len(allergenDict[allergen]) == 1:\n",
    "            singleIngred = allergenDict[allergen].pop()\n",
    "            finalAllergen[allergen] = singleIngred\n",
    "            break\n",
    "    allergenDict.pop(allergen)\n",
    "    for allergen in allergenDict:\n",
    "        if singleIngred in allergenDict[allergen]:\n",
    "            allergenDict[allergen].remove(singleIngred)\n",
    "            \n",
    "answer = []\n",
    "for allergen in sorted(finalAllergen.keys()):\n",
    "    answer.append(finalAllergen[allergen])\n",
    "print(','.join(answer))"
   ]
  },
  {
   "cell_type": "markdown",
   "metadata": {},
   "source": [
    "### 12/22 - 1\n",
    "Play the small crab in a game of Combat using the two decks you just dealt. What is the winning player's score?"
   ]
  },
  {
   "cell_type": "code",
   "execution_count": 1182,
   "metadata": {},
   "outputs": [],
   "source": [
    "def playGame(player_one, player_two):\n",
    "    while min(len(player_one), len(player_two)) != 0:\n",
    "        player_one, player_two = playRound(player_one, player_two)\n",
    "    \n",
    "    if player_one:\n",
    "        winner = player_one\n",
    "    elif player_two:\n",
    "        winner = player_two\n",
    "\n",
    "    return winner\n",
    "\n",
    "def playRound(player_one, player_two):\n",
    "    card_one = player_one.pop(0)\n",
    "    card_two = player_two.pop(0)\n",
    "    if card_one > card_two:\n",
    "        player_one.append(card_one)\n",
    "        player_one.append(card_two)\n",
    "    elif card_two > card_one:\n",
    "        player_two.append(card_two)\n",
    "        player_two.append(card_one)\n",
    "    return player_one, player_two"
   ]
  },
  {
   "cell_type": "code",
   "execution_count": 1183,
   "metadata": {},
   "outputs": [
    {
     "name": "stdout",
     "output_type": "stream",
     "text": [
      "35562\n"
     ]
    }
   ],
   "source": [
    "with open('AoC2020/Day22.txt', 'r') as card_f:\n",
    "    card_reader = card_f.readlines()\n",
    "    player_one = []\n",
    "    player_two = []\n",
    "    \n",
    "    first = True\n",
    "    for row in card_reader:\n",
    "        row = row.strip()\n",
    "        if row == 'Player 1:':\n",
    "            continue\n",
    "        elif row == 'Player 2:':\n",
    "            first = False\n",
    "            continue\n",
    "        elif row == '':\n",
    "            continue\n",
    "        if first:\n",
    "            player_one.append(int(row))\n",
    "        else:\n",
    "            player_two.append(int(row))\n",
    "            \n",
    "winner = playGame(player_one, player_two)\n",
    "score = 0\n",
    "for i in range(len(winner)):\n",
    "    score += winner[i] * (len(winner)-i)\n",
    "print(score)"
   ]
  },
  {
   "cell_type": "markdown",
   "metadata": {},
   "source": [
    "### 12/22 - 2\n",
    "Defend your honor as Raft Captain by playing the small crab in a game of Recursive Combat using the same two decks as before. What is the winning player's score?"
   ]
  },
  {
   "cell_type": "code",
   "execution_count": 1201,
   "metadata": {},
   "outputs": [],
   "source": [
    "def newplayGame(player_one, player_two):\n",
    "    seen_one = []\n",
    "    seen_two = []\n",
    "    seen_one.append(tuple(player_one))\n",
    "    seen_two.append(tuple(player_two))\n",
    "    i = 0\n",
    "    while min(len(player_one), len(player_two)) != 0:\n",
    "        player_one, player_two = newplayRound(player_one, player_two)\n",
    "        i+= 1\n",
    "        if tuple(player_one) in seen_one and tuple(player_two) in seen_two:\n",
    "            return player_one\n",
    "        seen_one.append(tuple(player_one))\n",
    "        seen_two.append(tuple(player_two))      \n",
    "    \n",
    "    if player_one:\n",
    "        winner = player_one\n",
    "    elif player_two:\n",
    "        winner = player_two\n",
    "\n",
    "    return winner\n",
    "\n",
    "def newplayRound(player_one, player_two):\n",
    "    card_one = player_one.pop(0)\n",
    "    card_two = player_two.pop(0)\n",
    "    \n",
    "    if card_one <= len(player_one) and card_two <= len(player_two):\n",
    "        if playSubGame(player_one[:card_one], player_two[:card_two]):\n",
    "            player_one.append(card_one)\n",
    "            player_one.append(card_two)\n",
    "        else:\n",
    "            player_two.append(card_two)\n",
    "            player_two.append(card_one)\n",
    "    else:    \n",
    "        if card_one > card_two:\n",
    "            player_one.append(card_one)\n",
    "            player_one.append(card_two)\n",
    "        elif card_two > card_one:\n",
    "            player_two.append(card_two)\n",
    "            player_two.append(card_one)\n",
    "    return player_one, player_two\n",
    "\n",
    "def playSubGame(player_one, player_two):\n",
    "    player_one = player_one.copy()\n",
    "    player_two = player_two.copy()\n",
    "    seen_one = []\n",
    "    seen_two = []\n",
    "    seen_one.append(tuple(player_one))\n",
    "    seen_two.append(tuple(player_two))\n",
    "       \n",
    "    while min(len(player_one), len(player_two)) != 0:\n",
    "        player_one, player_two = newplayRound(player_one, player_two)\n",
    "    \n",
    "        if tuple(player_one) in seen_one and tuple(player_two) in seen_two:\n",
    "            return True\n",
    "        seen_one.append(tuple(player_one))\n",
    "        seen_two.append(tuple(player_two))\n",
    "        \n",
    "    # True if player_one wins\n",
    "    # False if player_two wins\n",
    "    if player_one:\n",
    "        return True\n",
    "    elif player_two:\n",
    "        return False"
   ]
  },
  {
   "cell_type": "code",
   "execution_count": 1202,
   "metadata": {},
   "outputs": [
    {
     "name": "stdout",
     "output_type": "stream",
     "text": [
      "34424\n"
     ]
    }
   ],
   "source": [
    "with open('AoC2020/Day22.txt', 'r') as card_f:\n",
    "    card_reader = card_f.readlines()\n",
    "    player_one = []\n",
    "    player_two = []\n",
    "    \n",
    "    first = True\n",
    "    for row in card_reader:\n",
    "        row = row.strip()\n",
    "        if row == 'Player 1:':\n",
    "            continue\n",
    "        elif row == 'Player 2:':\n",
    "            first = False\n",
    "            continue\n",
    "        elif row == '':\n",
    "            continue\n",
    "        if first:\n",
    "            player_one.append(int(row))\n",
    "        else:\n",
    "            player_two.append(int(row))\n",
    "            \n",
    "winner = newplayGame(player_one, player_two)\n",
    "score = 0\n",
    "for i in range(len(winner)):\n",
    "    score += winner[i] * (len(winner)-i)\n",
    "print(score)"
   ]
  },
  {
   "cell_type": "markdown",
   "metadata": {},
   "source": [
    "### 12/23 - 1\n",
    "Using your labeling, simulate 100 moves. What are the labels on the cups after cup 1?"
   ]
  },
  {
   "cell_type": "code",
   "execution_count": 1250,
   "metadata": {},
   "outputs": [],
   "source": [
    "# I will always make the first cup the current one\n",
    "def moveCups(cups):\n",
    "    current = cups[0]\n",
    "    pickup = cups[1:4]\n",
    "    rest = cups[4:]\n",
    "\n",
    "    order = list(range(9,0,-1))*2\n",
    "    order_idx = order.index(int(current))\n",
    "    for i in order[order_idx+1:order_idx+9]:\n",
    "        if str(i) not in pickup:\n",
    "            dest = str(i)\n",
    "            break\n",
    "    dest_idx = rest.find(dest)\n",
    "    return (rest[:dest_idx+1] + pickup + rest[dest_idx+1:] + current)"
   ]
  },
  {
   "cell_type": "code",
   "execution_count": 1251,
   "metadata": {},
   "outputs": [
    {
     "name": "stdout",
     "output_type": "stream",
     "text": [
      "32658947\n"
     ]
    }
   ],
   "source": [
    "cups = '598162734'\n",
    "#cups = '389125467'\n",
    "for i in range(100):\n",
    "    cups = moveCups(cups)\n",
    "\n",
    "one_idx = cups.find('1')\n",
    "print((cups+cups)[one_idx+1:one_idx+9])"
   ]
  },
  {
   "cell_type": "code",
   "execution_count": 1236,
   "metadata": {},
   "outputs": [
    {
     "data": {
      "text/plain": [
       "[9, 8, 7, 6, 5, 4, 3, 2, 1, 9, 8, 7, 6, 5, 4, 3, 2, 1]"
      ]
     },
     "execution_count": 1236,
     "metadata": {},
     "output_type": "execute_result"
    }
   ],
   "source": [
    "list(range(9,0,-1))*2"
   ]
  },
  {
   "cell_type": "markdown",
   "metadata": {},
   "source": [
    "### 12/23 - 2\n",
    "Using your labeling, simulate 100 moves. What are the labels on the cups after cup 1?"
   ]
  },
  {
   "cell_type": "code",
   "execution_count": 1322,
   "metadata": {},
   "outputs": [
    {
     "name": "stdout",
     "output_type": "stream",
     "text": [
      "683486010900\n"
     ]
    }
   ],
   "source": [
    "cupDict = dict()\n",
    "start = '598162734'\n",
    "cupDict[1000000] = int(start[0])\n",
    "for i in range(8):\n",
    "    cupDict[int(start[i])] = int(start[i+1])\n",
    "cupDict[int(start[-1])] = 10\n",
    "for i in range(10,1000000):\n",
    "    cupDict[i] = i+1\n",
    "\n",
    "# Move cups!\n",
    "current = 5\n",
    "for i in range(10000000):\n",
    "    current = newmoveCups(cupDict, current)\n",
    "print(cupDict[1] * cupDict[cupDict[1]])"
   ]
  },
  {
   "cell_type": "code",
   "execution_count": 1320,
   "metadata": {},
   "outputs": [],
   "source": [
    "def newmoveCups(cupDict, current):\n",
    "    pickup_start = cupDict[current]\n",
    "    pickup_middle = cupDict[pickup_start]\n",
    "    pickup_end = cupDict[pickup_middle]\n",
    "    nextCurrent = cupDict[pickup_end]\n",
    "    \n",
    "    # Figuring out dest    \n",
    "    for i in range(4):\n",
    "        dest = (current - i - 1) % 1000000\n",
    "        #dest = (current - i - 1) % 9\n",
    "        if dest == 0:\n",
    "            dest = 1000000\n",
    "            #dest = 9\n",
    "        if dest not in [pickup_start, pickup_middle, pickup_end]:\n",
    "            break\n",
    "\n",
    "    # Moving pickup\n",
    "    cupDict[pickup_end] = cupDict[dest]\n",
    "    cupDict[current] = nextCurrent\n",
    "    cupDict[dest] = pickup_start\n",
    "    \n",
    "    return nextCurrent"
   ]
  },
  {
   "cell_type": "markdown",
   "metadata": {},
   "source": [
    "### Day 12/24 - 1\n",
    "Go through the renovation crew's list and determine which tiles they need to flip. After all of the instructions have been followed, how many tiles are left with the black side up?"
   ]
  },
  {
   "cell_type": "code",
   "execution_count": 1393,
   "metadata": {},
   "outputs": [
    {
     "name": "stdout",
     "output_type": "stream",
     "text": [
      "10\n"
     ]
    }
   ],
   "source": [
    "blackTiles = []\n",
    "\n",
    "with open('AoC2020/input24.txt', 'r') as floor_f:\n",
    "    floor_reader = floor_f.readlines()\n",
    "    for floor in floor_reader:\n",
    "        floor = floor.strip()\n",
    "        sw = floor.count('sw')\n",
    "        se = floor.count('se')\n",
    "        nw = floor.count('nw')\n",
    "        ne = floor.count('ne')\n",
    "        e = floor.count('e') - ne - se\n",
    "        w = floor.count('w') - sw - nw\n",
    "            \n",
    "        #print(floor)\n",
    "        #print(sw, se, nw, ne, e, w)\n",
    "        #flipped = finalTile(sw, se, nw, ne, e, w)\n",
    "        gridflipped = (2*e + ne + se - 2*w - nw - sw, nw + ne - sw - se)\n",
    "\n",
    "        #gridflipped = newfinalTile(sw, se, nw, ne, e, w)\n",
    "        \n",
    "        if gridflipped in blackTiles:\n",
    "            blackTiles.remove(gridflipped)\n",
    "        else:\n",
    "            blackTiles.append(gridflipped)\n",
    "print(len(blackTiles))"
   ]
  },
  {
   "cell_type": "markdown",
   "metadata": {},
   "source": [
    "### Day 12/24 - 2\n",
    "How many tiles will be black after 100 days?"
   ]
  },
  {
   "cell_type": "code",
   "execution_count": 1396,
   "metadata": {},
   "outputs": [],
   "source": [
    "def neighbors(tile):\n",
    "    neighbors = []\n",
    "    right, up = tile\n",
    "    \n",
    "    neighbors.append((right + 2, up))\n",
    "    neighbors.append((right - 2, up))\n",
    "    neighbors.append((right + 1, up+1))\n",
    "    neighbors.append((right + 1, up-1))\n",
    "    neighbors.append((right - 1, up+1))\n",
    "    neighbors.append((right - 1, up-1))\n",
    "\n",
    "    return neighbors"
   ]
  },
  {
   "cell_type": "code",
   "execution_count": 1401,
   "metadata": {},
   "outputs": [
    {
     "name": "stdout",
     "output_type": "stream",
     "text": [
      "3711\n"
     ]
    }
   ],
   "source": [
    "blackTiles = set()\n",
    "\n",
    "with open('AoC2020/Day24.txt', 'r') as floor_f:\n",
    "    floor_reader = floor_f.readlines()\n",
    "    for floor in floor_reader:\n",
    "        floor = floor.strip()\n",
    "        sw = floor.count('sw')\n",
    "        se = floor.count('se')\n",
    "        nw = floor.count('nw')\n",
    "        ne = floor.count('ne')\n",
    "        e = floor.count('e') - ne - se\n",
    "        w = floor.count('w') - sw - nw\n",
    "            \n",
    "        gridflipped = (2*e + ne + se - 2*w - nw - sw, nw + ne - sw - se)\n",
    "        \n",
    "        if gridflipped in blackTiles:\n",
    "            blackTiles.discard(gridflipped)\n",
    "        else:\n",
    "            blackTiles.add(gridflipped)\n",
    "\n",
    "for i in range(100):\n",
    "    temp = blackTiles.copy()\n",
    "    \n",
    "    for tile in blackTiles:\n",
    "        buddies = neighbors(tile)    \n",
    "        countB = 0\n",
    "        for buddy in buddies:\n",
    "            if buddy in blackTiles:\n",
    "                countB += 1\n",
    "\n",
    "            # White tiles might be flipped\n",
    "            else:\n",
    "                buds = neighbors(buddy)\n",
    "                countWB = 0\n",
    "                for bud in buds:\n",
    "                    if bud in blackTiles:\n",
    "                        countWB += 1\n",
    "\n",
    "                # Flipping tile to Black\n",
    "                if countWB == 2:\n",
    "                    temp.add(buddy)\n",
    "                \n",
    "        # Flipping tile to White\n",
    "        if countB == 0 or countB > 2:\n",
    "            temp.discard(tile)\n",
    "                \n",
    "    blackTiles = temp.copy()\n",
    "print(len(blackTiles))"
   ]
  },
  {
   "cell_type": "markdown",
   "metadata": {},
   "source": [
    "### 12/25 - 1\n",
    "What encryption key is the handshake trying to establish?"
   ]
  },
  {
   "cell_type": "code",
   "execution_count": 1411,
   "metadata": {},
   "outputs": [
    {
     "name": "stdout",
     "output_type": "stream",
     "text": [
      "9717666 20089533\n",
      "19924389\n",
      "19924389\n"
     ]
    }
   ],
   "source": [
    "with open('AoC2020/Day25.txt', 'r') as key_f:\n",
    "    key_reader = key_f.readlines()\n",
    "    card_key = int(key_reader[0].strip())\n",
    "    door_key = int(key_reader[1].strip())\n",
    "    print(card_key, door_key)\n",
    "    \n",
    "    num = 1\n",
    "    card_loop = 0\n",
    "    while num != card_key:\n",
    "        card_loop += 1\n",
    "        num = (num * 7) % 20201227\n",
    "    \n",
    "    num = 1\n",
    "    door_loop = 0\n",
    "    while num != door_key:\n",
    "        door_loop += 1\n",
    "        num = (num * 7) % 20201227\n",
    "    \n",
    "    num = 1\n",
    "    for i in range(door_loop):\n",
    "        num = (num * card_key) % 20201227\n",
    "    print(num)\n",
    "\n",
    "    num = 1\n",
    "    for i in range(card_loop):\n",
    "        num = (num * door_key) % 20201227\n",
    "    print(num)"
   ]
  },
  {
   "cell_type": "code",
   "execution_count": null,
   "metadata": {},
   "outputs": [],
   "source": []
  }
 ],
 "metadata": {
  "kernelspec": {
   "display_name": "Python 3",
   "language": "python",
   "name": "python3"
  },
  "language_info": {
   "codemirror_mode": {
    "name": "ipython",
    "version": 3
   },
   "file_extension": ".py",
   "mimetype": "text/x-python",
   "name": "python",
   "nbconvert_exporter": "python",
   "pygments_lexer": "ipython3",
   "version": "3.6.5"
  }
 },
 "nbformat": 4,
 "nbformat_minor": 2
}
